{
 "cells": [
  {
   "cell_type": "code",
   "execution_count": null,
   "id": "6bb166e6-7ab1-49ff-91db-c487f8e2a732",
   "metadata": {},
   "outputs": [],
   "source": [
    "%load_ext autoreload\n",
    "%autoreload 2"
   ]
  },
  {
   "cell_type": "code",
   "execution_count": null,
   "id": "a539d267-39a0-44d2-a640-d62c7d78502c",
   "metadata": {},
   "outputs": [],
   "source": [
    "from embcomp.test_cases.confusion import case1, case2, case3, case4, case5, plot_confusion\n",
    "from embcomp.test_cases.utils import plot\n",
    "\n",
    "import numpy as np\n",
    "\n",
    "np.random.seed(42)"
   ]
  },
  {
   "cell_type": "markdown",
   "id": "451a49a6-95dd-469f-9b8b-2a5dce06ecf6",
   "metadata": {},
   "source": [
    "### Confusion 1\n",
    "\n",
    "- Case: 5 equal sized groups, well separated\n",
    "- Expected: no confusion"
   ]
  },
  {
   "cell_type": "code",
   "execution_count": null,
   "id": "a37b4aeb-df3b-4fdc-99d0-9e2f466a049c",
   "metadata": {},
   "outputs": [],
   "source": [
    "plot(case1())"
   ]
  },
  {
   "cell_type": "markdown",
   "id": "3b3f5164-fe08-4334-a4b1-c4d8400ab536",
   "metadata": {},
   "source": [
    "### Confusion 2\n",
    "\n",
    "- Case: 5 equal sized groups, 2 mixed\n",
    "- Expected: confusion with last two groups"
   ]
  },
  {
   "cell_type": "code",
   "execution_count": null,
   "id": "59749dfa-4233-457b-9adc-c1d2c52a2fd3",
   "metadata": {},
   "outputs": [],
   "source": [
    "plot(case2())"
   ]
  },
  {
   "cell_type": "markdown",
   "id": "1ec6f08e-034b-4249-b052-8b0a700bfb8d",
   "metadata": {},
   "source": [
    "### Confusion 3\n",
    "\n",
    "- Case: 5 groups of various sizes, small group intermixed with larger\n",
    "- Expected: smaller group should be confused with larger mixed group"
   ]
  },
  {
   "cell_type": "code",
   "execution_count": null,
   "id": "5655a423-3a5a-4822-863e-113bb663c446",
   "metadata": {},
   "outputs": [],
   "source": [
    "plot(case3())"
   ]
  },
  {
   "cell_type": "markdown",
   "id": "412a8c4d-f3a5-47ba-9c08-3508c11ad74a",
   "metadata": {},
   "source": [
    "### Confusion 4\n",
    "\n",
    "- Case: 5 groups of various sizes, small group intermixed with larger\n",
    "- Expected: smaller group should be confused with larger mixed group"
   ]
  },
  {
   "cell_type": "code",
   "execution_count": null,
   "id": "29fb1c5a-65cf-4778-b81d-d1d90ba92144",
   "metadata": {},
   "outputs": [],
   "source": [
    "plot(case4())"
   ]
  },
  {
   "cell_type": "markdown",
   "id": "34dd5cd9-1740-4435-bbb0-82af6af1d4c2",
   "metadata": {},
   "source": [
    "### Confusion 5"
   ]
  },
  {
   "cell_type": "code",
   "execution_count": null,
   "id": "02cf9caf-15c9-4adf-9c8a-bd2cbea91d9b",
   "metadata": {},
   "outputs": [],
   "source": [
    "plot(case5())"
   ]
  },
  {
   "cell_type": "markdown",
   "id": "9073c7d8-9a9e-4b06-a303-0b241b98e8bb",
   "metadata": {},
   "source": [
    "## Testing\n"
   ]
  },
  {
   "cell_type": "code",
   "execution_count": null,
   "id": "c9ef1423-9a61-4bdf-8341-c134d780f09a",
   "metadata": {},
   "outputs": [],
   "source": [
    "# test harness\n",
    "def run(metrics):\n",
    "    for case in [case1, case2, case3, case4, case5]:\n",
    "        plot_confusion(case(), metrics)"
   ]
  },
  {
   "cell_type": "code",
   "execution_count": null,
   "id": "768cb76a-5762-43f9-8c85-d3bc9e066b41",
   "metadata": {},
   "outputs": [],
   "source": [
    "def fixed_k(data: pd.DataFrame, k):\n",
    "    nn = NearestNeighbors(n_neighbors=k).fit(data[[\"x\", \"y\"]])\n",
    "    knn_indices = nn.kneighbors(return_distance=False)\n",
    "    counts = ec.metrics.count_neighbor_labels(knn_indices, data.label)\n",
    "    index = pd.Series(data.label, name=\"label\", dtype=\"category\")\n",
    "    df = pd.DataFrame(counts, index=index).groupby(\"label\").sum()\n",
    "    df.columns = index.cat.categories\n",
    "    return df\n",
    "\n",
    "\n",
    "run(\n",
    "    metrics=[\n",
    "        (\"fixed k=8\", functools.partial(fixed_k, k=8)),\n",
    "        (\"fixed k=32\", functools.partial(fixed_k, k=32)),\n",
    "        (\"fixed k=64\", functools.partial(fixed_k, k=64)),\n",
    "    ],\n",
    ")"
   ]
  },
  {
   "cell_type": "code",
   "execution_count": null,
   "id": "74504330-a02b-4965-bba3-6b280d6ab240",
   "metadata": {},
   "outputs": [],
   "source": []
  },
  {
   "cell_type": "code",
   "execution_count": null,
   "id": "132fc6e9-c408-45f1-858b-3f8c74df7334",
   "metadata": {},
   "outputs": [],
   "source": []
  }
 ],
 "metadata": {
  "kernelspec": {
   "display_name": "Python 3 (ipykernel)",
   "language": "python",
   "name": "python3"
  },
  "language_info": {
   "codemirror_mode": {
    "name": "ipython",
    "version": 3
   },
   "file_extension": ".py",
   "mimetype": "text/x-python",
   "name": "python",
   "nbconvert_exporter": "python",
   "pygments_lexer": "ipython3",
   "version": "3.10.6"
  }
 },
 "nbformat": 4,
 "nbformat_minor": 5
}
