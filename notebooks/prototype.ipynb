{
 "cells": [
  {
   "cell_type": "code",
   "execution_count": null,
   "id": "d96540be-613c-4f75-aa47-73b4605be868",
   "metadata": {},
   "outputs": [],
   "source": [
    "%load_ext autoreload\n",
    "%autoreload 2"
   ]
  },
  {
   "cell_type": "code",
   "execution_count": null,
   "id": "e1c41074-2835-4e55-b640-db464227a3f9",
   "metadata": {},
   "outputs": [],
   "source": [
    "import pathlib\n",
    "import sys\n",
    "\n",
    "import pandas as pd\n",
    "\n",
    "from cev.widgets import Embedding, compare"
   ]
  },
  {
   "cell_type": "markdown",
   "id": "7d12e3ce-1eb6-4665-8408-da731140b211",
   "metadata": {},
   "source": [
    "### Ozette vs Regular"
   ]
  },
  {
   "cell_type": "code",
   "execution_count": null,
   "id": "139ea14f-a29a-4acf-8acf-df12b7d14a70",
   "metadata": {},
   "outputs": [],
   "source": [
    "data_dir = pathlib.Path.cwd() / \"..\" / \"data\" / \"mair-2022-ismb\"\n",
    "name = \"TISSUE_138_samples_FM96_OM138_035_CD45_live_fcs_110595\"\n",
    "\n",
    "a = Embedding.from_ozette(df=pd.read_parquet(data_dir / f\"{name}_umap.parquet\"))\n",
    "b = Embedding.from_ozette(df=pd.read_parquet(data_dir / f\"{name}_umap_annotated.parquet\"))"
   ]
  },
  {
   "cell_type": "code",
   "execution_count": null,
   "id": "bcb3d17d-4dfa-4878-9840-7320262118b4",
   "metadata": {
    "tags": []
   },
   "outputs": [],
   "source": [
    "w = compare(a, b)\n",
    "w"
   ]
  },
  {
   "cell_type": "markdown",
   "id": "817f11b9-8a1e-40cd-88c7-1e3cf7e3fcae",
   "metadata": {},
   "source": [
    "## IFN-γ-independent immune markers of Mycobacterium tuberculosis exposure\n"
   ]
  },
  {
   "cell_type": "code",
   "execution_count": null,
   "id": "ee336b5c-21b4-4951-b343-dd7964e6a4ab",
   "metadata": {},
   "outputs": [],
   "source": [
    "import pathlib\n",
    "\n",
    "import pandas as pd\n",
    "\n",
    "\n",
    "def load_ics_example(subset: pd.DataFrame, data_dir=\"~/data/ICS_external_analysis\"):\n",
    "    data_dir = pathlib.Path(data_dir)\n",
    "    for index, row in subset.iterrows():\n",
    "        df = pd.read_parquet(data_dir / f\"{row['oz_id']}_embedding_output.parquet\")\n",
    "        yield Embedding.from_ozette(df, robust_only=True)\n",
    "\n",
    "\n",
    "def select_subset(\n",
    "    metadata_file=\"../data/ics/ics_experiment_metadata_table.parquet\",\n",
    "):\n",
    "    df = pd.read_parquet(metadata_file)\n",
    "    # df = df[df.arm_or_cohort_name == \"LTBI\"]\n",
    "    options = [\n",
    "        # 'TB Lysate',\n",
    "        \"Peptide Pool 1\",\n",
    "        # 'DMSO',\n",
    "        # 'SEB',\n",
    "        # 'Peptide Pool 2'\n",
    "    ]\n",
    "    df = df[df.Treatment.isin(options)]\n",
    "    n = 1\n",
    "    return (\n",
    "        df.groupby([\"Treatment\", \"arm_or_cohort_name\"])\n",
    "        .sample(n=n, random_state=123)\n",
    "        .reset_index(drop=True)\n",
    "    )\n",
    "\n",
    "\n",
    "subset = select_subset()\n",
    "subset"
   ]
  },
  {
   "cell_type": "code",
   "execution_count": null,
   "id": "3d7d6f18-c44e-4beb-8cf0-ed42a62b8a40",
   "metadata": {},
   "outputs": [],
   "source": [
    "samplea, sampleb = load_ics_example(subset)"
   ]
  },
  {
   "cell_type": "code",
   "execution_count": null,
   "id": "ecb7c8bc-aa24-417c-add7-88ffa6a327ef",
   "metadata": {},
   "outputs": [],
   "source": [
    "print(\n",
    "    f\"left: {subset.arm_or_cohort_name.loc[0]}, right: {subset.arm_or_cohort_name.loc[1]}\"\n",
    ")\n",
    "w = compare(samplea, sampleb)\n",
    "w"
   ]
  },
  {
   "cell_type": "code",
   "execution_count": null,
   "id": "8664cdc0-d063-4f72-838a-8adfda6acc91",
   "metadata": {},
   "outputs": [],
   "source": []
  }
 ],
 "metadata": {
  "kernelspec": {
   "display_name": "Python 3 (ipykernel)",
   "language": "python",
   "name": "python3"
  },
  "language_info": {
   "codemirror_mode": {
    "name": "ipython",
    "version": 3
   },
   "file_extension": ".py",
   "mimetype": "text/x-python",
   "name": "python",
   "nbconvert_exporter": "python",
   "pygments_lexer": "ipython3",
   "version": "3.10.8"
  }
 },
 "nbformat": 4,
 "nbformat_minor": 5
}
