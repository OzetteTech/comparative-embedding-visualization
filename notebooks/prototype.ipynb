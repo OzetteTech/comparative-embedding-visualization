{
 "cells": [
  {
   "cell_type": "code",
   "execution_count": 1,
   "id": "d96540be-613c-4f75-aa47-73b4605be868",
   "metadata": {},
   "outputs": [],
   "source": [
    "%load_ext autoreload\n",
    "%autoreload 2"
   ]
  },
  {
   "cell_type": "code",
   "execution_count": 2,
   "id": "e1c41074-2835-4e55-b640-db464227a3f9",
   "metadata": {},
   "outputs": [],
   "source": [
    "import pathlib\n",
    "import sys\n",
    "\n",
    "import pandas as pd\n",
    "\n",
    "from cev.widgets import Embedding, compare"
   ]
  },
  {
   "cell_type": "markdown",
   "id": "7d12e3ce-1eb6-4665-8408-da731140b211",
   "metadata": {},
   "source": [
    "### Ozette vs Regular"
   ]
  },
  {
   "cell_type": "code",
   "execution_count": 3,
   "id": "139ea14f-a29a-4acf-8acf-df12b7d14a70",
   "metadata": {},
   "outputs": [],
   "source": [
    "data_dir = pathlib.Path.cwd() / \"..\" / \"data\" / \"mair-2022-ismb\"\n",
    "name = \"TISSUE_138_samples_FM96_OM138_035_CD45_live_fcs_110595\"\n",
    "\n",
    "a = Embedding.from_ozette(df=pd.read_parquet(data_dir / f\"{name}_umap.parquet\"))\n",
    "b = Embedding.from_ozette(\n",
    "    df=pd.read_parquet(data_dir / f\"{name}_umap_annotated.parquet\")\n",
    ")"
   ]
  },
  {
   "cell_type": "code",
   "execution_count": 4,
   "id": "bcb3d17d-4dfa-4878-9840-7320262118b4",
   "metadata": {
    "tags": []
   },
   "outputs": [
    {
     "data": {
      "application/vnd.jupyter.widget-view+json": {
       "model_id": "285eaeec29b64188b1782f32a5271217",
       "version_major": 2,
       "version_minor": 0
      },
      "text/plain": [
       "VBox(children=(VBox(children=(MarkerIndicator(markers=['CD4', 'CD8', 'CD3', 'CD45RA', 'CD27', 'CD19', 'CD103',…"
      ]
     },
     "execution_count": 4,
     "metadata": {},
     "output_type": "execute_result"
    }
   ],
   "source": [
    "w = compare(a, b)\n",
    "w"
   ]
  },
  {
   "cell_type": "markdown",
   "id": "817f11b9-8a1e-40cd-88c7-1e3cf7e3fcae",
   "metadata": {},
   "source": [
    "## IFN-γ-independent immune markers of Mycobacterium tuberculosis exposure\n"
   ]
  },
  {
   "cell_type": "code",
   "execution_count": 5,
   "id": "ee336b5c-21b4-4951-b343-dd7964e6a4ab",
   "metadata": {},
   "outputs": [
    {
     "data": {
      "text/html": [
       "<div>\n",
       "<style scoped>\n",
       "    .dataframe tbody tr th:only-of-type {\n",
       "        vertical-align: middle;\n",
       "    }\n",
       "\n",
       "    .dataframe tbody tr th {\n",
       "        vertical-align: top;\n",
       "    }\n",
       "\n",
       "    .dataframe thead th {\n",
       "        text-align: right;\n",
       "    }\n",
       "</style>\n",
       "<table border=\"1\" class=\"dataframe\">\n",
       "  <thead>\n",
       "    <tr style=\"text-align: right;\">\n",
       "      <th></th>\n",
       "      <th>name</th>\n",
       "      <th>visit_name</th>\n",
       "      <th>biosample_id</th>\n",
       "      <th>visit_id</th>\n",
       "      <th>expsample_id</th>\n",
       "      <th>arm_or_cohort_id</th>\n",
       "      <th>Treatment</th>\n",
       "      <th>arm_or_cohort_name</th>\n",
       "      <th>subject_id</th>\n",
       "      <th>oz_id</th>\n",
       "    </tr>\n",
       "  </thead>\n",
       "  <tbody>\n",
       "    <tr>\n",
       "      <th>0</th>\n",
       "      <td>68bd69b2-4ef6-4628-b87b-06e243a01f94</td>\n",
       "      <td>V0</td>\n",
       "      <td>1375</td>\n",
       "      <td>329</td>\n",
       "      <td>1483</td>\n",
       "      <td>323</td>\n",
       "      <td>Peptide Pool 1</td>\n",
       "      <td>LTBI</td>\n",
       "      <td>812</td>\n",
       "      <td>OZEXPSMPL_2022</td>\n",
       "    </tr>\n",
       "    <tr>\n",
       "      <th>1</th>\n",
       "      <td>d5c7e837-8014-429c-827e-ef05a19c6efb</td>\n",
       "      <td>V0</td>\n",
       "      <td>1284</td>\n",
       "      <td>329</td>\n",
       "      <td>1381</td>\n",
       "      <td>321</td>\n",
       "      <td>Peptide Pool 1</td>\n",
       "      <td>RSTR</td>\n",
       "      <td>721</td>\n",
       "      <td>OZEXPSMPL_2054</td>\n",
       "    </tr>\n",
       "  </tbody>\n",
       "</table>\n",
       "</div>"
      ],
      "text/plain": [
       "                                   name visit_name biosample_id visit_id  \\\n",
       "0  68bd69b2-4ef6-4628-b87b-06e243a01f94         V0         1375      329   \n",
       "1  d5c7e837-8014-429c-827e-ef05a19c6efb         V0         1284      329   \n",
       "\n",
       "  expsample_id arm_or_cohort_id       Treatment arm_or_cohort_name subject_id  \\\n",
       "0         1483              323  Peptide Pool 1               LTBI        812   \n",
       "1         1381              321  Peptide Pool 1               RSTR        721   \n",
       "\n",
       "            oz_id  \n",
       "0  OZEXPSMPL_2022  \n",
       "1  OZEXPSMPL_2054  "
      ]
     },
     "execution_count": 5,
     "metadata": {},
     "output_type": "execute_result"
    }
   ],
   "source": [
    "import pathlib\n",
    "\n",
    "import pandas as pd\n",
    "\n",
    "\n",
    "def load_ics_example(subset: pd.DataFrame, data_dir=\"~/data/ICS_external_analysis\"):\n",
    "    data_dir = pathlib.Path(data_dir)\n",
    "    for index, row in subset.iterrows():\n",
    "        df = pd.read_parquet(data_dir / f\"{row['oz_id']}_embedding_output.parquet\")\n",
    "        yield Embedding.from_ozette(df, robust_only=True)\n",
    "\n",
    "\n",
    "def select_subset(\n",
    "    metadata_file=\"../data/ics/ics_experiment_metadata_table.parquet\",\n",
    "):\n",
    "    df = pd.read_parquet(metadata_file)\n",
    "    # df = df[df.arm_or_cohort_name == \"LTBI\"]\n",
    "    options = [\n",
    "        # 'TB Lysate',\n",
    "        \"Peptide Pool 1\",\n",
    "        # 'DMSO',\n",
    "        # 'SEB',\n",
    "        # 'Peptide Pool 2'\n",
    "    ]\n",
    "    df = df[df.Treatment.isin(options)]\n",
    "    n = 1\n",
    "    return (\n",
    "        df.groupby([\"Treatment\", \"arm_or_cohort_name\"])\n",
    "        .sample(n=n, random_state=123)\n",
    "        .reset_index(drop=True)\n",
    "    )\n",
    "\n",
    "\n",
    "subset = select_subset()\n",
    "subset"
   ]
  },
  {
   "cell_type": "code",
   "execution_count": 6,
   "id": "3d7d6f18-c44e-4beb-8cf0-ed42a62b8a40",
   "metadata": {},
   "outputs": [],
   "source": [
    "samplea, sampleb = load_ics_example(subset)"
   ]
  },
  {
   "cell_type": "code",
   "execution_count": 7,
   "id": "ecb7c8bc-aa24-417c-add7-88ffa6a327ef",
   "metadata": {},
   "outputs": [
    {
     "name": "stdout",
     "output_type": "stream",
     "text": [
      "left: LTBI, right: RSTR\n"
     ]
    },
    {
     "data": {
      "application/vnd.jupyter.widget-view+json": {
       "model_id": "23b0d9b204a94170bc8251c2947358ee",
       "version_major": 2,
       "version_minor": 0
      },
      "text/plain": [
       "VBox(children=(VBox(children=(MarkerIndicator(markers=['CD4', 'CD3', 'CD8', 'TNF', 'CD107a', 'IL4', 'IFNg', 'I…"
      ]
     },
     "execution_count": 7,
     "metadata": {},
     "output_type": "execute_result"
    }
   ],
   "source": [
    "print(\n",
    "    f\"left: {subset.arm_or_cohort_name.loc[0]}, right: {subset.arm_or_cohort_name.loc[1]}\"\n",
    ")\n",
    "w = compare(samplea, sampleb)\n",
    "w"
   ]
  },
  {
   "cell_type": "code",
   "execution_count": null,
   "id": "8664cdc0-d063-4f72-838a-8adfda6acc91",
   "metadata": {},
   "outputs": [],
   "source": []
  }
 ],
 "metadata": {
  "kernelspec": {
   "display_name": "Python 3 (ipykernel)",
   "language": "python",
   "name": "python3"
  },
  "language_info": {
   "codemirror_mode": {
    "name": "ipython",
    "version": 3
   },
   "file_extension": ".py",
   "mimetype": "text/x-python",
   "name": "python",
   "nbconvert_exporter": "python",
   "pygments_lexer": "ipython3",
   "version": "3.10.8"
  }
 },
 "nbformat": 4,
 "nbformat_minor": 5
}
