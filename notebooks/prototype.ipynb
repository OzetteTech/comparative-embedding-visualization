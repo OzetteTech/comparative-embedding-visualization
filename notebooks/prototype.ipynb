{
 "cells": [
  {
   "cell_type": "code",
   "execution_count": 1,
   "id": "d96540be-613c-4f75-aa47-73b4605be868",
   "metadata": {},
   "outputs": [],
   "source": [
    "%load_ext autoreload\n",
    "%autoreload 2"
   ]
  },
  {
   "cell_type": "code",
   "execution_count": 2,
   "id": "e1c41074-2835-4e55-b640-db464227a3f9",
   "metadata": {},
   "outputs": [],
   "source": [
    "import pathlib\n",
    "import sys\n",
    "\n",
    "import jscatter\n",
    "import numpy as np\n",
    "import pandas as pd\n",
    "import seaborn as sns\n",
    "\n",
    "import embcomp as ec\n",
    "\n",
    "data_dir = pathlib.Path.cwd() / \"..\" / \"data\" / \"mair-2022-ismb\"\n",
    "name = \"TISSUE_138_samples_FM96_OM138_035_CD45_live_fcs_110595\"\n",
    "\n",
    "raw = pd.read_parquet(data_dir / f\"{name}_umap.parquet\")\n",
    "annotated = pd.read_parquet(data_dir / f\"{name}_umap_annotated.parquet\")\n",
    "raw_knn_indices = ec.metrics.kneighbors(raw[[\"x\", \"y\"]], k=16)\n",
    "ann_knn_indices = ec.metrics.kneighbors(annotated[[\"x\", \"y\"]], k=16)"
   ]
  },
  {
   "cell_type": "code",
   "execution_count": 8,
   "id": "7340eef1-38ba-4e5c-94a6-997324474be9",
   "metadata": {},
   "outputs": [
    {
     "data": {
      "application/vnd.jupyter.widget-view+json": {
       "model_id": "157853e4356840ab858e89e8d4ce8f1d",
       "version_major": 2,
       "version_minor": 0
      },
      "text/plain": [
       "GridBox(children=(HBox(children=(VBox(children=(Button(button_style='primary', icon='arrows', layout=Layout(wi…"
      ]
     },
     "metadata": {},
     "output_type": "display_data"
    }
   ],
   "source": [
    "import ipywidgets\n",
    "\n",
    "import embcomp as ec\n",
    "\n",
    "w = ec.widgets.pairwise(\n",
    "    A=(raw[[\"x\", \"y\"]], raw_knn_indices),\n",
    "    B=(annotated[[\"x\", \"y\"]], ann_knn_indices),\n",
    "    labels=raw.complete_faust_label,\n",
    "    robust=raw.cellType != \"0_0_0_0_0\",\n",
    ")\n",
    "\n",
    "\n",
    "w"
   ]
  },
  {
   "cell_type": "code",
   "execution_count": null,
   "id": "64c9a57f-da24-42ae-b486-85e24c4beb1a",
   "metadata": {},
   "outputs": [],
   "source": []
  }
 ],
 "metadata": {
  "kernelspec": {
   "display_name": "Python 3 (ipykernel)",
   "language": "python",
   "name": "python3"
  },
  "language_info": {
   "codemirror_mode": {
    "name": "ipython",
    "version": 3
   },
   "file_extension": ".py",
   "mimetype": "text/x-python",
   "name": "python",
   "nbconvert_exporter": "python",
   "pygments_lexer": "ipython3",
   "version": "3.9.13"
  }
 },
 "nbformat": 4,
 "nbformat_minor": 5
}
