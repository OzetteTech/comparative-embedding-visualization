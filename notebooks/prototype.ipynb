{
 "cells": [
  {
   "cell_type": "code",
   "execution_count": null,
   "id": "d96540be-613c-4f75-aa47-73b4605be868",
   "metadata": {},
   "outputs": [],
   "source": [
    "%load_ext autoreload\n",
    "%autoreload 2"
   ]
  },
  {
   "cell_type": "code",
   "execution_count": null,
   "id": "e1c41074-2835-4e55-b640-db464227a3f9",
   "metadata": {},
   "outputs": [],
   "source": [
    "import pathlib\n",
    "import sys\n",
    "\n",
    "import pandas as pd\n",
    "\n",
    "import embcomp as ec"
   ]
  },
  {
   "cell_type": "markdown",
   "id": "7d12e3ce-1eb6-4665-8408-da731140b211",
   "metadata": {},
   "source": [
    "### Ozette vs Regular"
   ]
  },
  {
   "cell_type": "code",
   "execution_count": null,
   "id": "139ea14f-a29a-4acf-8acf-df12b7d14a70",
   "metadata": {},
   "outputs": [],
   "source": [
    "data_dir = pathlib.Path.cwd() / \"..\" / \"data\" / \"mair-2022-ismb\"\n",
    "name = \"TISSUE_138_samples_FM96_OM138_035_CD45_live_fcs_110595\"\n",
    "\n",
    "raw = pd.read_parquet(data_dir / f\"{name}_umap.parquet\")\n",
    "annotated = pd.read_parquet(data_dir / f\"{name}_umap_annotated.parquet\")\n",
    "\n",
    "a = ec.widgets.Embedding.from_ozette(raw, robust_only=True)\n",
    "b = ec.widgets.Embedding.from_ozette(annotated, robust_only=True)"
   ]
  },
  {
   "cell_type": "code",
   "execution_count": null,
   "id": "bcb3d17d-4dfa-4878-9840-7320262118b4",
   "metadata": {
    "tags": []
   },
   "outputs": [],
   "source": [
    "w = ec.widgets.compare(a, b)\n",
    "w"
   ]
  },
  {
   "cell_type": "code",
   "execution_count": null,
   "id": "c3c16785-e85d-4c78-b6a9-7a898257203c",
   "metadata": {},
   "outputs": [],
   "source": [
    "w.ilocs"
   ]
  },
  {
   "cell_type": "markdown",
   "id": "9cc7e035-38bd-4f43-a87b-9a8d5d514368",
   "metadata": {},
   "source": [
    "## Mair 2022"
   ]
  },
  {
   "cell_type": "code",
   "execution_count": null,
   "id": "c5d11710-5ee0-4ca2-a245-59e36e520b60",
   "metadata": {},
   "outputs": [],
   "source": [
    "w2 = ec.widgets.compare(\n",
    "    a=ec.widgets.Embedding.from_ozette(\n",
    "        df=pd.read_parquet(\n",
    "            \"../data/mair-2022/OZEXPSMPL_26134_embedding_output.parquet\"\n",
    "        ),\n",
    "        robust_only=True,\n",
    "    ),\n",
    "    b=ec.widgets.Embedding.from_ozette(\n",
    "        df=pd.read_parquet(\n",
    "            \"../data/mair-2022/OZEXPSMPL_26136_embedding_output.parquet\"\n",
    "        ),\n",
    "        robust_only=True,\n",
    "    ),\n",
    ")\n",
    "\n",
    "w2"
   ]
  },
  {
   "cell_type": "code",
   "execution_count": null,
   "id": "6d7aa734-ee71-42b6-8bc2-104af95554bb",
   "metadata": {},
   "outputs": [],
   "source": [
    "w2.right.distances"
   ]
  },
  {
   "cell_type": "markdown",
   "id": "817f11b9-8a1e-40cd-88c7-1e3cf7e3fcae",
   "metadata": {},
   "source": [
    "## IFN-γ-independent immune markers of Mycobacterium tuberculosis exposure\n"
   ]
  },
  {
   "cell_type": "code",
   "execution_count": null,
   "id": "ee336b5c-21b4-4951-b343-dd7964e6a4ab",
   "metadata": {},
   "outputs": [],
   "source": [
    "import pathlib\n",
    "\n",
    "import pandas as pd\n",
    "\n",
    "\n",
    "def load_ics_example(subset: pd.DataFrame, data_dir=\"~/data/ICS_external_analysis\"):\n",
    "    data_dir = pathlib.Path(data_dir)\n",
    "    for index, row in subset.iterrows():\n",
    "        df = pd.read_parquet(data_dir / f\"{row['oz_id']}_embedding_output.parquet\")\n",
    "        yield ec.widgets.Embedding.from_ozette(df, robust_only=True)\n",
    "\n",
    "\n",
    "def select_subset(\n",
    "    metadata_file=\"../data/ics/ics_experiment_metadata_table.parquet\",\n",
    "):\n",
    "    df = pd.read_parquet(metadata_file)\n",
    "    # df = df[df.arm_or_cohort_name == \"LTBI\"]\n",
    "    options = [\n",
    "        # 'TB Lysate',\n",
    "        \"Peptide Pool 1\",\n",
    "        # 'DMSO',\n",
    "        # 'SEB',\n",
    "        # 'Peptide Pool 2'\n",
    "    ]\n",
    "    df = df[df.Treatment.isin(options)]\n",
    "    n = 1\n",
    "    return (\n",
    "        df.groupby([\"Treatment\", \"arm_or_cohort_name\"])\n",
    "        .sample(n=n, random_state=123)\n",
    "        .reset_index(drop=True)\n",
    "    )\n",
    "\n",
    "\n",
    "subset = select_subset()\n",
    "subset"
   ]
  },
  {
   "cell_type": "code",
   "execution_count": null,
   "id": "ecb7c8bc-aa24-417c-add7-88ffa6a327ef",
   "metadata": {},
   "outputs": [],
   "source": [
    "print(\n",
    "    f\"left: {subset.arm_or_cohort_name.loc[0]}, right: {subset.arm_or_cohort_name.loc[1]}\"\n",
    ")\n",
    "w = ec.widgets.compare(*load_ics_example(subset))\n",
    "w"
   ]
  },
  {
   "cell_type": "code",
   "execution_count": null,
   "id": "161701f7-7626-43dd-b485-01659c5332b6",
   "metadata": {},
   "outputs": [],
   "source": [
    "import numpy as np\n",
    "\n",
    "phenoa = \"CD4+CD3+CD8-TNF+CD107a-IL4-IFNg+IL2+CD154+IL17a-\"\n",
    "phenob = \"CD4+CD3+CD8-TNF-CD107a-IL4-IFNg-IL2+CD154+IL17a-\"\n",
    "\n",
    "# highlight a specific label\n",
    "w.left.scatter.widget.selection = np.where(w.left.labels == phenoa)[0]"
   ]
  }
 ],
 "metadata": {
  "kernelspec": {
   "display_name": "Python 3 (ipykernel)",
   "language": "python",
   "name": "python3"
  },
  "language_info": {
   "codemirror_mode": {
    "name": "ipython",
    "version": 3
   },
   "file_extension": ".py",
   "mimetype": "text/x-python",
   "name": "python",
   "nbconvert_exporter": "python",
   "pygments_lexer": "ipython3",
   "version": "3.10.8"
  }
 },
 "nbformat": 4,
 "nbformat_minor": 5
}
