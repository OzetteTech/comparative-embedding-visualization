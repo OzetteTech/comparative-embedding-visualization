{
 "cells": [
  {
   "cell_type": "code",
   "execution_count": null,
   "id": "d96540be-613c-4f75-aa47-73b4605be868",
   "metadata": {},
   "outputs": [],
   "source": [
    "%load_ext autoreload\n",
    "%autoreload 2"
   ]
  },
  {
   "cell_type": "code",
   "execution_count": null,
   "id": "e1c41074-2835-4e55-b640-db464227a3f9",
   "metadata": {},
   "outputs": [],
   "source": [
    "import pathlib\n",
    "import sys\n",
    "\n",
    "import jscatter\n",
    "import numpy as np\n",
    "import pandas as pd\n",
    "import seaborn as sns\n",
    "\n",
    "import embcomp as ec\n",
    "\n",
    "data_dir = pathlib.Path.cwd() / \"..\" / \"data\" / \"mair-2022-ismb\"\n",
    "name = \"TISSUE_138_samples_FM96_OM138_035_CD45_live_fcs_110595\"\n",
    "\n",
    "raw = pd.read_parquet(data_dir / f\"{name}_umap.parquet\")\n",
    "annotated = pd.read_parquet(data_dir / f\"{name}_umap_annotated.parquet\")\n",
    "raw_knn_indices = ec.metrics.kneighbors(raw[[\"x\", \"y\"]], k=50)\n",
    "ann_knn_indices = ec.metrics.kneighbors(annotated[[\"x\", \"y\"]], k=50)"
   ]
  },
  {
   "cell_type": "code",
   "execution_count": null,
   "id": "7340eef1-38ba-4e5c-94a6-997324474be9",
   "metadata": {},
   "outputs": [],
   "source": [
    "import ipywidgets\n",
    "\n",
    "from embcomp.widgets import Embedding, pairwise\n",
    "\n",
    "w = pairwise(\n",
    "    a=Embedding(\n",
    "        coords=raw[[\"x\", \"y\"]],\n",
    "        knn_indices=raw_knn_indices,\n",
    "        labels=raw.complete_faust_label,\n",
    "        robust=raw.cellType != \"0_0_0_0_0\",\n",
    "    ),\n",
    "    b=Embedding(\n",
    "        coords=annotated[[\"x\", \"y\"]],\n",
    "        knn_indices=ann_knn_indices,\n",
    "        labels=annotated.complete_faust_label,\n",
    "        robust=annotated.cellType != \"0_0_0_0_0\",\n",
    "    ),\n",
    ")\n",
    "\n",
    "w"
   ]
  },
  {
   "cell_type": "code",
   "execution_count": null,
   "id": "0d5f44d0-85f1-4d98-943b-71d51998fb5c",
   "metadata": {},
   "outputs": [],
   "source": []
  }
 ],
 "metadata": {
  "kernelspec": {
   "display_name": "Python 3 (ipykernel)",
   "language": "python",
   "name": "python3"
  },
  "language_info": {
   "codemirror_mode": {
    "name": "ipython",
    "version": 3
   },
   "file_extension": ".py",
   "mimetype": "text/x-python",
   "name": "python",
   "nbconvert_exporter": "python",
   "pygments_lexer": "ipython3",
   "version": "3.9.13"
  }
 },
 "nbformat": 4,
 "nbformat_minor": 5
}
