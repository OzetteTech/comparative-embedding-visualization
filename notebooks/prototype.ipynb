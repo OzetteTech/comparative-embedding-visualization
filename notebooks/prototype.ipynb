{
 "cells": [
  {
   "cell_type": "code",
   "execution_count": 12,
   "id": "d96540be-613c-4f75-aa47-73b4605be868",
   "metadata": {
    "tags": []
   },
   "outputs": [
    {
     "name": "stdout",
     "output_type": "stream",
     "text": [
      "The autoreload extension is already loaded. To reload it, use:\n",
      "  %reload_ext autoreload\n"
     ]
    }
   ],
   "source": [
    "%load_ext autoreload\n",
    "%autoreload 2"
   ]
  },
  {
   "cell_type": "code",
   "execution_count": 16,
   "id": "e1c41074-2835-4e55-b640-db464227a3f9",
   "metadata": {
    "tags": []
   },
   "outputs": [],
   "source": [
    "import pathlib\n",
    "import sys\n",
    "\n",
    "import pandas as pd\n",
    "from cev.widgets import Embedding, EmbeddingComparisonWidget\n",
    "\n",
    "data_dir = pathlib.Path.cwd() / \"..\" / \"..\" / \"data\" / \"mair-2022-ismb\"\n",
    "name = \"TISSUE_138_samples_FM96_OM138_035_CD45_live_fcs_110595\""
   ]
  },
  {
   "cell_type": "markdown",
   "id": "7d12e3ce-1eb6-4665-8408-da731140b211",
   "metadata": {},
   "source": [
    "### Ozette vs Regular"
   ]
  },
  {
   "cell_type": "code",
   "execution_count": 17,
   "id": "139ea14f-a29a-4acf-8acf-df12b7d14a70",
   "metadata": {
    "tags": []
   },
   "outputs": [],
   "source": [
    "a = Embedding.from_ozette(pd.read_parquet(data_dir / f\"{name}_umap.parquet\"))\n",
    "b = Embedding.from_ozette(pd.read_parquet(data_dir / f\"{name}_umap_annotated.parquet\"))"
   ]
  },
  {
   "cell_type": "code",
   "execution_count": 19,
   "id": "8664cdc0-d063-4f72-838a-8adfda6acc91",
   "metadata": {
    "tags": []
   },
   "outputs": [
    {
     "data": {
      "application/vnd.jupyter.widget-view+json": {
       "model_id": "7d625b823fc54de58bb3f7407de0c10f",
       "version_major": 2,
       "version_minor": 0
      },
      "text/plain": [
       "EmbeddingComparisonWidget(children=(VBox(children=(MarkerSelectionIndicator(active=[True, True, True, True, Tr…"
      ]
     },
     "execution_count": 19,
     "metadata": {},
     "output_type": "execute_result"
    }
   ],
   "source": [
    "widget = EmbeddingComparisonWidget(a, b, titles=[\"UMAP\", \"Annotation-transformed UMAP\"])\n",
    "widget"
   ]
  },
  {
   "cell_type": "code",
   "execution_count": null,
   "id": "6b140bc5-5a11-4010-9298-2d29f10dfd00",
   "metadata": {},
   "outputs": [],
   "source": []
  }
 ],
 "metadata": {
  "kernelspec": {
   "display_name": "Python 3 (ipykernel)",
   "language": "python",
   "name": "python3"
  },
  "language_info": {
   "codemirror_mode": {
    "name": "ipython",
    "version": 3
   },
   "file_extension": ".py",
   "mimetype": "text/x-python",
   "name": "python",
   "nbconvert_exporter": "python",
   "pygments_lexer": "ipython3",
   "version": "3.10.11"
  }
 },
 "nbformat": 4,
 "nbformat_minor": 5
}
