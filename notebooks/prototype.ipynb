{
 "cells": [
  {
   "cell_type": "code",
   "execution_count": 6,
   "id": "d96540be-613c-4f75-aa47-73b4605be868",
   "metadata": {},
   "outputs": [
    {
     "name": "stdout",
     "output_type": "stream",
     "text": [
      "The autoreload extension is already loaded. To reload it, use:\n",
      "  %reload_ext autoreload\n"
     ]
    }
   ],
   "source": [
    "%load_ext autoreload\n",
    "%autoreload 2"
   ]
  },
  {
   "cell_type": "code",
   "execution_count": 7,
   "id": "e1c41074-2835-4e55-b640-db464227a3f9",
   "metadata": {},
   "outputs": [],
   "source": [
    "import pathlib\n",
    "import sys\n",
    "\n",
    "import pandas as pd\n",
    "\n",
    "import embcomp as ec"
   ]
  },
  {
   "cell_type": "markdown",
   "id": "7d12e3ce-1eb6-4665-8408-da731140b211",
   "metadata": {},
   "source": [
    "### Ozette vs Regular"
   ]
  },
  {
   "cell_type": "code",
   "execution_count": 8,
   "id": "139ea14f-a29a-4acf-8acf-df12b7d14a70",
   "metadata": {},
   "outputs": [],
   "source": [
    "data_dir = pathlib.Path.cwd() / \"..\" / \"data\" / \"mair-2022-ismb\"\n",
    "name = \"TISSUE_138_samples_FM96_OM138_035_CD45_live_fcs_110595\"\n",
    "\n",
    "raw = pd.read_parquet(data_dir / f\"{name}_umap.parquet\")\n",
    "annotated = pd.read_parquet(data_dir / f\"{name}_umap_annotated.parquet\")\n",
    "# drop non-robust\n",
    "\n",
    "raw = raw[raw.cellType != \"0_0_0_0_0\"].reset_index(drop=True)\n",
    "annotated = annotated[annotated.cellType != \"0_0_0_0_0\"].reset_index(drop=True)\n",
    "\n",
    "raw_knn_indices = ec.metrics.kneighbors(raw[[\"x\", \"y\"]], k=100)\n",
    "ann_knn_indices = ec.metrics.kneighbors(annotated[[\"x\", \"y\"]], k=100)"
   ]
  },
  {
   "cell_type": "code",
   "execution_count": 12,
   "id": "bcb3d17d-4dfa-4878-9840-7320262118b4",
   "metadata": {
    "tags": []
   },
   "outputs": [
    {
     "data": {
      "application/vnd.jupyter.widget-view+json": {
       "model_id": "d285cfe4f7d0414fa658e28483c60172",
       "version_major": 2,
       "version_minor": 0
      },
      "text/plain": [
       "VBox(children=(VBox(children=(MarkerIndicator(), HBox(children=(IntSlider(value=1, continuous_update=False, de…"
      ]
     },
     "execution_count": 12,
     "metadata": {},
     "output_type": "execute_result"
    }
   ],
   "source": [
    "w = ec.widgets.compare(\n",
    "    a=ec.widgets.Embedding(\n",
    "        coords=raw[[\"x\", \"y\"]],\n",
    "        knn_indices=raw_knn_indices,\n",
    "        labels=raw.complete_faust_label,\n",
    "        # robust=raw.cellType != \"0_0_0_0_0\",\n",
    "    ),\n",
    "    b=ec.widgets.Embedding(\n",
    "        coords=annotated[[\"x\", \"y\"]],\n",
    "        knn_indices=ann_knn_indices,\n",
    "        labels=annotated.complete_faust_label,\n",
    "        # robust=annotated.cellType != \"0_0_0_0_0\",\n",
    "    ),\n",
    "    row_height=320,\n",
    ")\n",
    "\n",
    "w"
   ]
  },
  {
   "cell_type": "code",
   "execution_count": 10,
   "id": "c3c16785-e85d-4c78-b6a9-7a898257203c",
   "metadata": {},
   "outputs": [
    {
     "data": {
      "text/plain": [
       "(array([], dtype=uint32), array([], dtype=uint32))"
      ]
     },
     "execution_count": 10,
     "metadata": {},
     "output_type": "execute_result"
    }
   ],
   "source": [
    "w.ilocs"
   ]
  },
  {
   "cell_type": "markdown",
   "id": "9cc7e035-38bd-4f43-a87b-9a8d5d514368",
   "metadata": {},
   "source": [
    "## Mair 2022"
   ]
  },
  {
   "cell_type": "code",
   "execution_count": null,
   "id": "c5d11710-5ee0-4ca2-a245-59e36e520b60",
   "metadata": {},
   "outputs": [],
   "source": [
    "from embcomp.logo import parse_label\n",
    "\n",
    "\n",
    "def load_embedding(path: str, k=50, robust_only=False) -> ec.widgets.Embedding:\n",
    "    df = path if isinstance(path, pd.DataFrame) else pd.read_parquet(path)\n",
    "\n",
    "    if robust_only:\n",
    "        df = df[df[\"faustLabels\"] != \"0_0_0_0_0\"].reset_index(drop=True)\n",
    "\n",
    "    coords = df[[\"umapX\", \"umapY\"]]\n",
    "    knn_indices = ec.metrics.kneighbors(coords, k=k)\n",
    "    labels = df[\"faustLabels\"]\n",
    "    robust = labels != \"0_0_0_0_0\"\n",
    "\n",
    "    robust[0] = False\n",
    "\n",
    "    # find the first non-robust label\n",
    "    representative_label = labels[robust].iloc[0]\n",
    "    df[\"labels\"] = \"\"\n",
    "    for marker in parse_label(representative_label):\n",
    "        marker_annoation = marker.name + df[f\"{marker.name}_faust_annotation\"]\n",
    "        df[\"labels\"] += marker_annoation\n",
    "\n",
    "    labels = df[\"labels\"]\n",
    "\n",
    "    return ec.widgets.Embedding(\n",
    "        coords=coords, knn_indices=knn_indices, labels=labels, robust=robust\n",
    "    )\n",
    "\n",
    "\n",
    "w = ec.widgets.compare(\n",
    "    a=load_embedding(\n",
    "        \"../data/mair-2022/OZEXPSMPL_26134_embedding_output.parquet\",\n",
    "        k=50,\n",
    "        robust_only=True,\n",
    "    ),\n",
    "    b=load_embedding(\n",
    "        \"../data/mair-2022/OZEXPSMPL_26136_embedding_output.parquet\",\n",
    "        k=50,\n",
    "        robust_only=True,\n",
    "    ),\n",
    ")\n",
    "\n",
    "w"
   ]
  },
  {
   "cell_type": "code",
   "execution_count": null,
   "id": "6580c7a2-cad8-484c-938b-b8289b9dd615",
   "metadata": {},
   "outputs": [],
   "source": [
    "import numpy as np\n",
    "import seaborn as sns\n",
    "\n",
    "\n",
    "def view_counts(label: str):\n",
    "    (acounts, _a), (bcounts, _b) = w.label_counts()\n",
    "    a, b = (\n",
    "        counts[np.nonzero(counts.values)[0]]\n",
    "        for counts in (acounts.loc[label], bcounts.loc[label])\n",
    "    )\n",
    "    union = a.index.union(b.index)\n",
    "    return np.stack(\n",
    "        [\n",
    "            union.map(a).values,\n",
    "            union.map(b).values,\n",
    "        ]\n",
    "    )\n",
    "\n",
    "\n",
    "sns.heatmap(\n",
    "    view_counts(\n",
    "        \"CD4+CD8-CD3+CD45RA+CD27+CD19-CD103-CD28+CD69-PD1-HLADR-GranzymeB-CD25-ICOS-TCRgd-CD38-CD127+Tim3-\"\n",
    "    ),\n",
    "    cmap=\"magma_r\",\n",
    ")"
   ]
  },
  {
   "cell_type": "code",
   "execution_count": null,
   "id": "732e775c-aa12-44f6-b449-178dd7e77ef2",
   "metadata": {},
   "outputs": [],
   "source": [
    "tuple((1, 2))[2:]"
   ]
  },
  {
   "cell_type": "markdown",
   "id": "817f11b9-8a1e-40cd-88c7-1e3cf7e3fcae",
   "metadata": {},
   "source": [
    "## IFN-γ-independent immune markers of Mycobacterium tuberculosis exposure\n"
   ]
  },
  {
   "cell_type": "code",
   "execution_count": null,
   "id": "ee336b5c-21b4-4951-b343-dd7964e6a4ab",
   "metadata": {},
   "outputs": [],
   "source": [
    "import pathlib\n",
    "\n",
    "import pandas as pd\n",
    "from utils import load_embedding\n",
    "\n",
    "\n",
    "def load_ics_example(subset: pd.DataFrame, data_dir=\"~/data/ICS_external_analysis\"):\n",
    "    data_dir = pathlib.Path(data_dir)\n",
    "    for index, row in subset.iterrows():\n",
    "        df = pd.read_parquet(data_dir / f\"{row['oz_id']}_embedding_output.parquet\")\n",
    "        yield load_embedding(df)\n",
    "\n",
    "\n",
    "def select_subset(\n",
    "    metadata_file=\"../data/ics/ics_experiment_metadata_table.parquet\",\n",
    "):\n",
    "    df = pd.read_parquet(metadata_file)\n",
    "    # df = df[df.arm_or_cohort_name == \"LTBI\"]\n",
    "    options = [\n",
    "        # 'TB Lysate',\n",
    "        \"Peptide Pool 1\",\n",
    "        # 'DMSO',\n",
    "        # 'SEB',\n",
    "        # 'Peptide Pool 2'\n",
    "    ]\n",
    "    df = df[df.Treatment.isin(options)]\n",
    "    n = 1\n",
    "    return (\n",
    "        df.groupby([\"Treatment\", \"arm_or_cohort_name\"])\n",
    "        .sample(n=n, random_state=123)\n",
    "        .reset_index(drop=True)\n",
    "    )\n",
    "\n",
    "\n",
    "subset = select_subset()\n",
    "subset"
   ]
  },
  {
   "cell_type": "code",
   "execution_count": null,
   "id": "ecb7c8bc-aa24-417c-add7-88ffa6a327ef",
   "metadata": {},
   "outputs": [],
   "source": [
    "print(\n",
    "    f\"left: {subset.arm_or_cohort_name.loc[0]}, right: {subset.arm_or_cohort_name.loc[1]}\"\n",
    ")\n",
    "w = ec.widgets.compare(*load_ics_example(subset))\n",
    "w"
   ]
  },
  {
   "cell_type": "code",
   "execution_count": null,
   "id": "161701f7-7626-43dd-b485-01659c5332b6",
   "metadata": {},
   "outputs": [],
   "source": [
    "import numpy as np\n",
    "\n",
    "phenoa = \"CD4+CD3+CD8-TNF+CD107a-IL4-IFNg+IL2+CD154+IL17a-\"\n",
    "phenob = \"CD4+CD3+CD8-TNF-CD107a-IL4-IFNg-IL2+CD154+IL17a-\"\n",
    "\n",
    "# highlight a specific label\n",
    "w.left.scatter.widget.selection = np.where(w.left.labels == phenoa)[0]"
   ]
  },
  {
   "cell_type": "code",
   "execution_count": null,
   "id": "845f9e16-d03d-473d-82c9-452797bf6255",
   "metadata": {},
   "outputs": [],
   "source": [
    "w1 = ec.widgets.Embedding(\n",
    "    coords=raw[[\"x\", \"y\"]],\n",
    "    knn_indices=raw_knn_indices,\n",
    "    labels=raw.complete_faust_label,\n",
    "    robust=raw.cellType != \"0_0_0_0_0\",\n",
    ").widgets()\n",
    "\n",
    "w2 = ec.widgets.Embedding(\n",
    "    coords=annotated[[\"x\", \"y\"]],\n",
    "    knn_indices=ann_knn_indices,\n",
    "    labels=annotated.complete_faust_label,\n",
    "    robust=annotated.cellType != \"0_0_0_0_0\",\n",
    ").widgets()"
   ]
  },
  {
   "cell_type": "code",
   "execution_count": null,
   "id": "9d809cee-9513-4094-9fe1-664325f3ebf4",
   "metadata": {},
   "outputs": [],
   "source": [
    "import ipywidgets\n",
    "\n",
    "w1.show()"
   ]
  }
 ],
 "metadata": {
  "kernelspec": {
   "display_name": "Python 3 (ipykernel)",
   "language": "python",
   "name": "python3"
  },
  "language_info": {
   "codemirror_mode": {
    "name": "ipython",
    "version": 3
   },
   "file_extension": ".py",
   "mimetype": "text/x-python",
   "name": "python",
   "nbconvert_exporter": "python",
   "pygments_lexer": "ipython3",
   "version": "3.10.8"
  }
 },
 "nbformat": 4,
 "nbformat_minor": 5
}
