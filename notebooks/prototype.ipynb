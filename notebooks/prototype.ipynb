{
 "cells": [
  {
   "cell_type": "code",
   "execution_count": 1,
   "id": "d96540be-613c-4f75-aa47-73b4605be868",
   "metadata": {
    "tags": []
   },
   "outputs": [],
   "source": [
    "%load_ext autoreload\n",
    "%autoreload 2"
   ]
  },
  {
   "cell_type": "code",
   "execution_count": 6,
   "id": "e1c41074-2835-4e55-b640-db464227a3f9",
   "metadata": {
    "tags": []
   },
   "outputs": [],
   "source": [
    "import pathlib\n",
    "import sys\n",
    "\n",
    "import pandas as pd\n",
    "from cev.widgets import Embedding, EmbeddingComparisonWidget"
   ]
  },
  {
   "cell_type": "markdown",
   "id": "7d12e3ce-1eb6-4665-8408-da731140b211",
   "metadata": {},
   "source": [
    "### Responder vs Non-Responder"
   ]
  },
  {
   "cell_type": "code",
   "execution_count": 7,
   "id": "139ea14f-a29a-4acf-8acf-df12b7d14a70",
   "metadata": {
    "tags": []
   },
   "outputs": [],
   "source": [
    "a = Embedding.from_ozette(\n",
    "    pd.read_parquet(\"../../data/unstimulated-pembrolizumab-responder.parquet\")\n",
    ")\n",
    "b = Embedding.from_ozette(\n",
    "    pd.read_parquet(\"../../data/unstimulated-pembrolizumab-non-responder.parquet\")\n",
    ")"
   ]
  },
  {
   "cell_type": "code",
   "execution_count": 8,
   "id": "8664cdc0-d063-4f72-838a-8adfda6acc91",
   "metadata": {
    "tags": []
   },
   "outputs": [
    {
     "data": {
      "application/vnd.jupyter.widget-view+json": {
       "model_id": "baf493dd4b284f1684667acbbae05b0e",
       "version_major": 2,
       "version_minor": 0
      },
      "text/plain": [
       "EmbeddingComparisonWidget(children=(VBox(children=(MarkerSelectionIndicator(active=[True, True, True, True, Tr…"
      ]
     },
     "execution_count": 8,
     "metadata": {},
     "output_type": "execute_result"
    }
   ],
   "source": [
    "widget = EmbeddingComparisonWidget(a, b, titles=[\"Responder\", \"Non-Responder\"])\n",
    "widget"
   ]
  },
  {
   "cell_type": "code",
   "execution_count": 13,
   "id": "a0efc88d-3e03-40c9-a4a6-0674a41576c0",
   "metadata": {
    "tags": []
   },
   "outputs": [
    {
     "data": {
      "application/vnd.jupyter.widget-view+json": {
       "model_id": "89c109b1abd445c1b69b0b6ea7a4b54f",
       "version_major": 2,
       "version_minor": 0
      },
      "text/plain": [
       "HTML(value='\\n<h1>hello</h1>\\n')"
      ]
     },
     "execution_count": 13,
     "metadata": {},
     "output_type": "execute_result"
    }
   ],
   "source": [
    "import ipywidgets\n",
    "\n",
    "ipywidgets.HTML(\n",
    "    \"\"\"\n",
    "<h1>hello</h1>\n",
    "\"\"\"\n",
    ")"
   ]
  },
  {
   "cell_type": "code",
   "execution_count": null,
   "id": "fe9bcd74-fc87-4c07-8e0a-07376657b035",
   "metadata": {},
   "outputs": [],
   "source": []
  },
  {
   "cell_type": "code",
   "execution_count": null,
   "id": "2705dfba-3288-49c0-a1b6-5004331a56bf",
   "metadata": {},
   "outputs": [],
   "source": []
  }
 ],
 "metadata": {
  "kernelspec": {
   "display_name": "Python 3 (ipykernel)",
   "language": "python",
   "name": "python3"
  },
  "language_info": {
   "codemirror_mode": {
    "name": "ipython",
    "version": 3
   },
   "file_extension": ".py",
   "mimetype": "text/x-python",
   "name": "python",
   "nbconvert_exporter": "python",
   "pygments_lexer": "ipython3",
   "version": "3.10.11"
  }
 },
 "nbformat": 4,
 "nbformat_minor": 5
}
