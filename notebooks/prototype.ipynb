{
 "cells": [
  {
   "cell_type": "code",
   "execution_count": 1,
   "id": "d96540be-613c-4f75-aa47-73b4605be868",
   "metadata": {},
   "outputs": [],
   "source": [
    "%load_ext autoreload\n",
    "%autoreload 2"
   ]
  },
  {
   "cell_type": "code",
   "execution_count": 2,
   "id": "e1c41074-2835-4e55-b640-db464227a3f9",
   "metadata": {},
   "outputs": [],
   "source": [
    "import pathlib\n",
    "import sys\n",
    "\n",
    "import pandas as pd\n",
    "import embcomp as ec"
   ]
  },
  {
   "cell_type": "markdown",
   "id": "7d12e3ce-1eb6-4665-8408-da731140b211",
   "metadata": {},
   "source": [
    "### Ozette vs Regular"
   ]
  },
  {
   "cell_type": "code",
   "execution_count": 16,
   "id": "7340eef1-38ba-4e5c-94a6-997324474be9",
   "metadata": {},
   "outputs": [
    {
     "data": {
      "application/vnd.jupyter.widget-view+json": {
       "model_id": "f0d36da319284cf095edf59ee0b299ed",
       "version_major": 2,
       "version_minor": 0
      },
      "text/plain": [
       "VBox(children=(VBox(children=(HBox(children=(VBox(children=(IntSlider(value=0, description='label level:', max…"
      ]
     },
     "metadata": {},
     "output_type": "display_data"
    }
   ],
   "source": [
    "import embcomp as ec\n",
    "\n",
    "data_dir = pathlib.Path.cwd() / \"..\" / \"data\" / \"mair-2022-ismb\"\n",
    "name = \"TISSUE_138_samples_FM96_OM138_035_CD45_live_fcs_110595\"\n",
    "\n",
    "raw = pd.read_parquet(data_dir / f\"{name}_umap.parquet\")\n",
    "annotated = pd.read_parquet(data_dir / f\"{name}_umap_annotated.parquet\")\n",
    "raw_knn_indices = ec.metrics.kneighbors(raw[[\"x\", \"y\"]], k=100)\n",
    "ann_knn_indices = ec.metrics.kneighbors(annotated[[\"x\", \"y\"]], k=100)\n",
    "\n",
    "w = ec.widgets.compare(\n",
    "    a=ec.widgets.Embedding(\n",
    "        coords=raw[[\"x\", \"y\"]],\n",
    "        knn_indices=raw_knn_indices,\n",
    "        labels=raw.complete_faust_label,\n",
    "        robust=raw.cellType != \"0_0_0_0_0\",\n",
    "    ),\n",
    "    b=ec.widgets.Embedding(\n",
    "        coords=annotated[[\"x\", \"y\"]],\n",
    "        knn_indices=ann_knn_indices,\n",
    "        labels=annotated.complete_faust_label,\n",
    "        robust=annotated.cellType != \"0_0_0_0_0\",\n",
    "    ),\n",
    ")\n",
    "\n",
    "w"
   ]
  },
  {
   "cell_type": "markdown",
   "id": "9cc7e035-38bd-4f43-a87b-9a8d5d514368",
   "metadata": {},
   "source": [
    "## Mair 2022"
   ]
  },
  {
   "cell_type": "code",
   "execution_count": 21,
   "id": "c5d11710-5ee0-4ca2-a245-59e36e520b60",
   "metadata": {},
   "outputs": [
    {
     "data": {
      "application/vnd.jupyter.widget-view+json": {
       "model_id": "64e25d02f30f46f1b3fbeb5b4e3f490f",
       "version_major": 2,
       "version_minor": 0
      },
      "text/plain": [
       "VBox(children=(VBox(children=(HBox(children=(VBox(children=(IntSlider(value=0, description='label level:', max…"
      ]
     },
     "metadata": {},
     "output_type": "display_data"
    }
   ],
   "source": [
    "from embcomp.logo import parse_label\n",
    "\n",
    "def load_embedding(path: str, k = 50, robust_only = False) -> ec.widgets.Embedding:\n",
    "    df = path if isinstance(path, pd.DataFrame) else pd.read_parquet(path)\n",
    "    \n",
    "    if robust_only:\n",
    "        df = df[df[\"faustLabels\"] != \"0_0_0_0_0\"].reset_index(drop=True)\n",
    "\n",
    "    coords = df[[\"umapX\", \"umapY\"]]\n",
    "    knn_indices = ec.metrics.kneighbors(coords, k=k)\n",
    "    labels = df[\"faustLabels\"]\n",
    "    robust = labels != \"0_0_0_0_0\"\n",
    "\n",
    "    robust[0] = False\n",
    "\n",
    "    # find the first non-robust label\n",
    "    representative_label = labels[robust].iloc[0]\n",
    "    df[\"labels\"] = \"\"\n",
    "    for marker in parse_label(representative_label):\n",
    "        marker_annoation = marker.name + df[f\"{marker.name}_faust_annotation\"]\n",
    "        df[\"labels\"] += marker_annoation\n",
    "\n",
    "    labels = df[\"labels\"]\n",
    "\n",
    "    return ec.widgets.Embedding(\n",
    "        coords=coords, knn_indices=knn_indices, labels=labels, robust=robust\n",
    "    )\n",
    "\n",
    "\n",
    "w = ec.widgets.compare(\n",
    "    a=load_embedding(\"../data/mair-2022/OZEXPSMPL_26134_embedding_output.parquet\", k=50, robust_only=True),\n",
    "    b=load_embedding(\"../data/mair-2022/OZEXPSMPL_26136_embedding_output.parquet\", k=50, robust_only=True),\n",
    ")\n",
    "\n",
    "w"
   ]
  },
  {
   "cell_type": "code",
   "execution_count": 25,
   "id": "6580c7a2-cad8-484c-938b-b8289b9dd615",
   "metadata": {},
   "outputs": [
    {
     "data": {
      "text/plain": [
       "<AxesSubplot: >"
      ]
     },
     "execution_count": 25,
     "metadata": {},
     "output_type": "execute_result"
    },
    {
     "data": {
      "image/png": "[encoded data removed]",
      "text/plain": [
       "<Figure size 640x480 with 2 Axes>"
      ]
     },
     "metadata": {},
     "output_type": "display_data"
    }
   ],
   "source": [
    "import seaborn as sns\n",
    "import numpy as np\n",
    "\n",
    "def view_counts(label: str):\n",
    "    (acounts, _a), (bcounts, _b) = w.label_counts()\n",
    "    a, b = (\n",
    "        counts[np.nonzero(counts.values)[0]]\n",
    "        for counts in (acounts.loc[label], bcounts.loc[label])\n",
    "    )\n",
    "    union = a.index.union(b.index)\n",
    "    return np.stack([\n",
    "        union.map(a).values,\n",
    "        union.map(b).values,\n",
    "    ])\n",
    "\n",
    "sns.heatmap(\n",
    "    view_counts(\"CD4+CD8-CD3+CD45RA+CD27+CD19-CD103-CD28+CD69-PD1-HLADR-GranzymeB-CD25-ICOS-TCRgd-CD38-CD127+Tim3-\"),\n",
    "    cmap=\"magma_r\",\n",
    ")"
   ]
  },
  {
   "cell_type": "markdown",
   "id": "817f11b9-8a1e-40cd-88c7-1e3cf7e3fcae",
   "metadata": {},
   "source": [
    "## IFN-γ-independent immune markers of Mycobacterium tuberculosis exposure\n"
   ]
  },
  {
   "cell_type": "code",
   "execution_count": 31,
   "id": "ee336b5c-21b4-4951-b343-dd7964e6a4ab",
   "metadata": {},
   "outputs": [
    {
     "data": {
      "text/html": [
       "<div>\n",
       "<style scoped>\n",
       "    .dataframe tbody tr th:only-of-type {\n",
       "        vertical-align: middle;\n",
       "    }\n",
       "\n",
       "    .dataframe tbody tr th {\n",
       "        vertical-align: top;\n",
       "    }\n",
       "\n",
       "    .dataframe thead th {\n",
       "        text-align: right;\n",
       "    }\n",
       "</style>\n",
       "<table border=\"1\" class=\"dataframe\">\n",
       "  <thead>\n",
       "    <tr style=\"text-align: right;\">\n",
       "      <th></th>\n",
       "      <th>name</th>\n",
       "      <th>visit_name</th>\n",
       "      <th>biosample_id</th>\n",
       "      <th>visit_id</th>\n",
       "      <th>expsample_id</th>\n",
       "      <th>arm_or_cohort_id</th>\n",
       "      <th>Treatment</th>\n",
       "      <th>arm_or_cohort_name</th>\n",
       "      <th>subject_id</th>\n",
       "      <th>oz_id</th>\n",
       "    </tr>\n",
       "  </thead>\n",
       "  <tbody>\n",
       "    <tr>\n",
       "      <th>0</th>\n",
       "      <td>68bd69b2-4ef6-4628-b87b-06e243a01f94</td>\n",
       "      <td>V0</td>\n",
       "      <td>1375</td>\n",
       "      <td>329</td>\n",
       "      <td>1483</td>\n",
       "      <td>323</td>\n",
       "      <td>Peptide Pool 1</td>\n",
       "      <td>LTBI</td>\n",
       "      <td>812</td>\n",
       "      <td>OZEXPSMPL_2022</td>\n",
       "    </tr>\n",
       "    <tr>\n",
       "      <th>1</th>\n",
       "      <td>d5c7e837-8014-429c-827e-ef05a19c6efb</td>\n",
       "      <td>V0</td>\n",
       "      <td>1284</td>\n",
       "      <td>329</td>\n",
       "      <td>1381</td>\n",
       "      <td>321</td>\n",
       "      <td>Peptide Pool 1</td>\n",
       "      <td>RSTR</td>\n",
       "      <td>721</td>\n",
       "      <td>OZEXPSMPL_2054</td>\n",
       "    </tr>\n",
       "  </tbody>\n",
       "</table>\n",
       "</div>"
      ],
      "text/plain": [
       "                                   name visit_name biosample_id visit_id  \\\n",
       "0  68bd69b2-4ef6-4628-b87b-06e243a01f94         V0         1375      329   \n",
       "1  d5c7e837-8014-429c-827e-ef05a19c6efb         V0         1284      329   \n",
       "\n",
       "  expsample_id arm_or_cohort_id       Treatment arm_or_cohort_name subject_id  \\\n",
       "0         1483              323  Peptide Pool 1               LTBI        812   \n",
       "1         1381              321  Peptide Pool 1               RSTR        721   \n",
       "\n",
       "            oz_id  \n",
       "0  OZEXPSMPL_2022  \n",
       "1  OZEXPSMPL_2054  "
      ]
     },
     "execution_count": 31,
     "metadata": {},
     "output_type": "execute_result"
    }
   ],
   "source": [
    "import pandas as pd\n",
    "import pathlib\n",
    "from utils import load_embedding\n",
    "\n",
    "def load_ics_example(subset: pd.DataFrame, data_dir = \"~/data/ICS_external_analysis\"):\n",
    "    data_dir = pathlib.Path(data_dir)\n",
    "    for index, row in subset.iterrows():\n",
    "        df = pd.read_parquet(data_dir / f\"{row['oz_id']}_embedding_output.parquet\")\n",
    "        yield load_embedding(df)\n",
    "\n",
    "def select_subset(\n",
    "    metadata_file= \"../data/ics/ics_experiment_metadata_table.parquet\",\n",
    "):\n",
    "    df = pd.read_parquet(metadata_file)\n",
    "    # df = df[df.arm_or_cohort_name == \"LTBI\"]\n",
    "    options = [\n",
    "        # 'TB Lysate',\n",
    "        'Peptide Pool 1',\n",
    "        # 'DMSO',\n",
    "        # 'SEB',\n",
    "        # 'Peptide Pool 2'\n",
    "    ]\n",
    "    df = df[df.Treatment.isin(options)]\n",
    "    n = 1\n",
    "    return df.groupby([\"Treatment\", \"arm_or_cohort_name\"]).sample(n=n, random_state=123).reset_index(drop=True)\n",
    "\n",
    "subset = select_subset()\n",
    "subset"
   ]
  },
  {
   "cell_type": "code",
   "execution_count": 32,
   "id": "ecb7c8bc-aa24-417c-add7-88ffa6a327ef",
   "metadata": {},
   "outputs": [
    {
     "name": "stdout",
     "output_type": "stream",
     "text": [
      "left: LTBI, right: RSTR\n"
     ]
    },
    {
     "data": {
      "application/vnd.jupyter.widget-view+json": {
       "model_id": "1762b16ad2e54ebe90284c80625d100a",
       "version_major": 2,
       "version_minor": 0
      },
      "text/plain": [
       "VBox(children=(VBox(children=(HBox(children=(VBox(children=(IntSlider(value=0, description='label level:', max…"
      ]
     },
     "metadata": {},
     "output_type": "display_data"
    }
   ],
   "source": [
    "print(f\"left: {subset.arm_or_cohort_name.loc[0]}, right: {subset.arm_or_cohort_name.loc[1]}\")\n",
    "w = ec.widgets.compare(*load_ics_example(subset))\n",
    "w"
   ]
  },
  {
   "cell_type": "code",
   "execution_count": 30,
   "id": "161701f7-7626-43dd-b485-01659c5332b6",
   "metadata": {},
   "outputs": [],
   "source": [
    "import numpy as np\n",
    "\n",
    "phenoa = \"CD4+CD3+CD8-TNF+CD107a-IL4-IFNg+IL2+CD154+IL17a-\"\n",
    "phenob = \"CD4+CD3+CD8-TNF-CD107a-IL4-IFNg-IL2+CD154+IL17a-\"\n",
    "\n",
    "# highlight a specific label\n",
    "w.left.scatter.widget.selection = np.where(w.left.labels == phenoa)[0]"
   ]
  },
  {
   "cell_type": "code",
   "execution_count": null,
   "id": "845f9e16-d03d-473d-82c9-452797bf6255",
   "metadata": {},
   "outputs": [],
   "source": []
  }
 ],
 "metadata": {
  "kernelspec": {
   "display_name": "Python 3 (ipykernel)",
   "language": "python",
   "name": "python3"
  },
  "language_info": {
   "codemirror_mode": {
    "name": "ipython",
    "version": 3
   },
   "file_extension": ".py",
   "mimetype": "text/x-python",
   "name": "python",
   "nbconvert_exporter": "python",
   "pygments_lexer": "ipython3",
   "version": "3.10.6"
  }
 },
 "nbformat": 4,
 "nbformat_minor": 5
}
