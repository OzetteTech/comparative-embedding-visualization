{
 "cells": [
  {
   "cell_type": "markdown",
   "id": "8c6bbfa0-e40d-46ca-8010-45da2bdc5ed9",
   "metadata": {},
   "source": [
    "# Lui et al. 2021"
   ]
  },
  {
   "cell_type": "code",
   "execution_count": null,
   "id": "82fd3a9b-c1e8-473a-9679-9f64990c7bb2",
   "metadata": {
    "tags": []
   },
   "outputs": [],
   "source": [
    "%load_ext autoreload\n",
    "%autoreload 2"
   ]
  },
  {
   "cell_type": "code",
   "execution_count": null,
   "id": "7e05cfbf-325e-4402-8a51-e31e10398acb",
   "metadata": {
    "tags": []
   },
   "outputs": [],
   "source": [
    "import pathlib\n",
    "import sys\n",
    "import pandas as pd\n",
    "from cev.widgets import Embedding, EmbeddingComparisonWidget, compare"
   ]
  },
  {
   "cell_type": "markdown",
   "id": "6a1625a2-7389-4dd9-9b50-1ac99583c574",
   "metadata": {},
   "source": [
    "## Prepare Data and Split into two DataFrames"
   ]
  },
  {
   "cell_type": "code",
   "execution_count": null,
   "id": "ace38a79-2c9c-45b2-9f34-87f24d71ba59",
   "metadata": {
    "tags": []
   },
   "outputs": [],
   "source": [
    "df_full = pd.read_parquet(\n",
    "    pathlib.Path.cwd() / \"..\" / \"data\" / \"lui-2021\" / \"data_for_confusion_full.parquet\"\n",
    ")\n",
    "df = pd.read_parquet(\n",
    "    pathlib.Path.cwd() / \"..\" / \"data\" / \"lui-2021\" / \"data_for_confusion.parquet\"\n",
    ")\n",
    "\n",
    "markers = [\n",
    "    \"CD3\",\n",
    "    \"CD45RA\",\n",
    "    \"CD8\",\n",
    "    \"CLEC12A\",\n",
    "    \"CD11b\",\n",
    "    \"CD62L\",\n",
    "    \"CD20\",\n",
    "    \"HLA_DR\",\n",
    "    \"CD11c\",\n",
    "    \"CD14\",\n",
    "    \"IgD\",\n",
    "    \"CD4\",\n",
    "    \"CD16\",\n",
    "    \"CD45RO\",\n",
    "    \"CD27\",\n",
    "    \"CD19\",\n",
    "    \"CD56\",\n",
    "]\n",
    "\n",
    "df_ozette_umap_ozette_labels = pd.DataFrame(\n",
    "    {\n",
    "        \"umapX\": df.platform_UMAP_X.values,\n",
    "        \"umapY\": df.platform_UMAP_Y.values,\n",
    "        \"faustLabels\": df.faust_clustering.map(\n",
    "            lambda s: \"0_0_0_0_0\" if s == \"rare\" else s\n",
    "        )\n",
    "        .str.replace(\"/\", \"\")\n",
    "        .values,\n",
    "    }\n",
    ")\n",
    "\n",
    "df_ozette_umap_symphony_labels = pd.DataFrame(\n",
    "    {\n",
    "        \"umapX\": df.platform_UMAP_X.values,\n",
    "        \"umapY\": df.platform_UMAP_Y.values,\n",
    "        \"faustLabels\": df.liu_clustering.values,\n",
    "    }\n",
    ")\n",
    "\n",
    "df_symphony_umap_ozette_labels = pd.DataFrame(\n",
    "    {\n",
    "        \"umapX\": df.symphony_UMAP_1.values,\n",
    "        \"umapY\": df.symphony_UMAP_2.values,\n",
    "        \"faustLabels\": df.faust_clustering.map(\n",
    "            lambda s: \"0_0_0_0_0\" if s == \"rare\" else s\n",
    "        )\n",
    "        .str.replace(\"/\", \"\")\n",
    "        .values,\n",
    "    }\n",
    ")\n",
    "\n",
    "df_symphony_umap_symphony_labels = pd.DataFrame(\n",
    "    {\n",
    "        \"umapX\": df.symphony_UMAP_1.values,\n",
    "        \"umapY\": df.symphony_UMAP_2.values,\n",
    "        \"faustLabels\": df.liu_clustering.values,\n",
    "    }\n",
    ")\n",
    "\n",
    "marker_annotations = df_full.faust_clustering.str.lstrip(\"/\").str.split(\n",
    "    \"/\", expand=True\n",
    ")\n",
    "for column in marker_annotations:\n",
    "    marker_annotations[column] = marker_annotations[column].str.slice(-1)\n",
    "\n",
    "df_ozette_umap_ozette_labels[\n",
    "    [f\"{m}_faust_annotation\" for m in markers]\n",
    "] = marker_annotations\n",
    "df_ozette_umap_symphony_labels[\n",
    "    [f\"{m}_faust_annotation\" for m in markers]\n",
    "] = marker_annotations\n",
    "df_symphony_umap_ozette_labels[\n",
    "    [f\"{m}_faust_annotation\" for m in markers]\n",
    "] = marker_annotations\n",
    "df_symphony_umap_symphony_labels[\n",
    "    [f\"{m}_faust_annotation\" for m in markers]\n",
    "] = marker_annotations"
   ]
  },
  {
   "cell_type": "markdown",
   "id": "e0c9a881-e2d6-488d-87d0-6f9328603960",
   "metadata": {
    "tags": []
   },
   "source": [
    "# Comparing the Ozette Against the Symphony Embedding using FAUST Labels"
   ]
  },
  {
   "cell_type": "code",
   "execution_count": null,
   "id": "7cefed4b-c050-4fb7-b8a5-c59a4bd93017",
   "metadata": {
    "tags": []
   },
   "outputs": [],
   "source": [
    "ozette_umap_ozette_labels_embedding = Embedding.from_ozette(\n",
    "    df_ozette_umap_ozette_labels, robust_only=True\n",
    ")\n",
    "symphony_umap_ozette_labels_embedding = Embedding.from_ozette(\n",
    "    df_symphony_umap_ozette_labels, robust_only=True\n",
    ")\n",
    "\n",
    "comparison_ozette_vs_symphony_umap_with_ozette_labels = EmbeddingComparisonWidget(\n",
    "    ozette_umap_ozette_labels_embedding,\n",
    "    symphony_umap_ozette_labels_embedding,\n",
    "    titles=[\n",
    "        \"Ozette Embedding with FAUST Labels\",\n",
    "        \"Symphony Embedding with FAUST Labels\",\n",
    "    ],\n",
    "    metric=\"neighborhood\",\n",
    "    # active_markers=[\"CD3\"],\n",
    "    selection=\"synced\",\n",
    "    auto_zoom=True,\n",
    "    row_height=400,\n",
    ")\n",
    "comparison_ozette_vs_symphony_umap_with_ozette_labels"
   ]
  },
  {
   "cell_type": "code",
   "execution_count": null,
   "id": "ee3ad9d6-4b92-4a5f-9199-e6bba4527a59",
   "metadata": {
    "tags": []
   },
   "outputs": [],
   "source": [
    "comparison_ozette_vs_symphony_umap_with_ozette_labels.select(\n",
    "    [\"CD19-\", \"CD11b-\", \"CD3+\", \"CD4+\", \"CD8-\", \"CD45RA-\", \"CD45RO+\", \"CD62L+\"]\n",
    ")"
   ]
  },
  {
   "cell_type": "code",
   "execution_count": null,
   "id": "42591b2c-3ee1-4fa8-ad32-4187a9a211e2",
   "metadata": {
    "tags": []
   },
   "outputs": [],
   "source": [
    "comparison_ozette_vs_symphony_umap_with_ozette_labels.select(\n",
    "    [\"CD19-\", \"CD11b-\", \"CD3+\", \"CD4+\", \"CD8-\", \"CD45RA-\", \"CD45RO+\", \"CD62L-\"]\n",
    ")"
   ]
  },
  {
   "cell_type": "code",
   "execution_count": null,
   "id": "cc81a023-288e-4ef4-8bdd-1940e05c68d4",
   "metadata": {
    "tags": []
   },
   "outputs": [],
   "source": [
    "comparison_ozette_vs_symphony_umap_with_ozette_labels.select(\n",
    "    [\"CD19-\", \"CD11b-\", \"CD3+\", \"CD4+\", \"CD8-\", \"CD45RA+\", \"CD45RO-\", \"CD62L+\"]\n",
    ")"
   ]
  },
  {
   "cell_type": "code",
   "execution_count": null,
   "id": "1536bfbf-7f09-48fd-b35b-567303a03416",
   "metadata": {
    "tags": []
   },
   "outputs": [],
   "source": [
    "comparison_ozette_vs_symphony_umap_with_ozette_labels.select(\n",
    "    [\"CD19-\", \"CD11b-\", \"CD3+\", \"CD4+\", \"CD8-\", \"CD45RA+\", \"CD45RO-\", \"CD62L-\"]\n",
    ")"
   ]
  },
  {
   "cell_type": "markdown",
   "id": "e1144d71-2055-44cd-a361-14c93383d2aa",
   "metadata": {},
   "source": [
    "# Comparing the Ozette Against the Symphony Embedding using Symphony Labels"
   ]
  },
  {
   "cell_type": "code",
   "execution_count": null,
   "id": "ff15c719-c1d5-4780-86b7-9bb3bf4f1e1c",
   "metadata": {
    "tags": []
   },
   "outputs": [],
   "source": [
    "ozette_umap_symphony_labels_embedding = Embedding(\n",
    "    df_ozette_umap_symphony_labels[[\"umapX\", \"umapY\"]].values,\n",
    "    df_ozette_umap_symphony_labels.faustLabels,\n",
    ")\n",
    "symphony_umap_symphony_labels_embedding = Embedding(\n",
    "    df_symphony_umap_symphony_labels[[\"umapX\", \"umapY\"]].values,\n",
    "    df_symphony_umap_symphony_labels.faustLabels,\n",
    ")\n",
    "\n",
    "comparison_ozette_vs_symphony_umap_with_symphony_labels = EmbeddingComparisonWidget(\n",
    "    ozette_umap_symphony_labels_embedding,\n",
    "    symphony_umap_symphony_labels_embedding,\n",
    "    titles=[\n",
    "        \"Ozette Embedding with Symphony Labels\",\n",
    "        \"Symphony Embedding with Symphony Labels\",\n",
    "    ],\n",
    "    selection=\"synced\",\n",
    "    auto_zoom=True,\n",
    "    row_height=400,\n",
    ")\n",
    "\n",
    "comparison_ozette_vs_symphony_umap_with_symphony_labels.left.categorical_scatter.legend(\n",
    "    True\n",
    ")\n",
    "comparison_ozette_vs_symphony_umap_with_symphony_labels.right.categorical_scatter.legend(\n",
    "    True\n",
    ")\n",
    "\n",
    "comparison_ozette_vs_symphony_umap_with_symphony_labels"
   ]
  },
  {
   "cell_type": "code",
   "execution_count": null,
   "id": "32b7afd5-c1eb-4625-b9fe-2f6c60e6f364",
   "metadata": {},
   "outputs": [],
   "source": []
  }
 ],
 "metadata": {
  "kernelspec": {
   "display_name": "Python 3 (ipykernel)",
   "language": "python",
   "name": "python3"
  },
  "language_info": {
   "codemirror_mode": {
    "name": "ipython",
    "version": 3
   },
   "file_extension": ".py",
   "mimetype": "text/x-python",
   "name": "python",
   "nbconvert_exporter": "python",
   "pygments_lexer": "ipython3",
   "version": "3.8.5"
  }
 },
 "nbformat": 4,
 "nbformat_minor": 5
}
