{
 "cells": [
  {
   "cell_type": "markdown",
   "id": "f61c4224-ab64-4e8a-8257-9f1f7abc59ee",
   "metadata": {},
   "source": [
    "This notebook requires a pair of untransformed and annotation-based transformed embeddings. The snakemake worflow in this repository contains rules for generating these embedding pairs with UMAP for FAUST annotations (`{name}_embedding_output.parquet` ). An example pair can be generated via,\n",
    "\n",
    "```bash\n",
    "snakemake --cores all \\\n",
    "    data/mair-2022-ismb/TISSUE_138_samples_FM96_OM138_035_CD45_live_fcs_110595_umap.parquet \\\n",
    "    data/mair-2022-ismb/TISSUE_138_samples_FM96_OM138_035_CD45_live_fcs_110595_umap_annotated.parquet\n",
    "```\n",
    "\n",
    "which downloads [sample annotations](https://figshare.com/articles/dataset/ISMB_BioVis_2022_Data/20301639) from figshare and executes the embedding rules automatically.\n"
   ]
  },
  {
   "cell_type": "code",
   "execution_count": 1,
   "id": "8bdf92c9-b85a-4fbe-b486-6ed124f6cba6",
   "metadata": {},
   "outputs": [],
   "source": [
    "import pathlib\n",
    "\n",
    "import pandas as pd\n",
    "import numpy as np\n",
    "import jscatter\n",
    "\n",
    "data_dir = pathlib.Path.cwd() / \"..\" / \"data\" / \"mair-2022-ismb\"\n",
    "name = \"TISSUE_138_samples_FM96_OM138_035_CD45_live_fcs_110595\"\n",
    "\n",
    "raw = pd.read_parquet(data_dir / f\"{name}_umap_annotated.parquet\")\n",
    "annotated = pd.read_parquet(data_dir / f\"{name}_umap.parquet\")"
   ]
  },
  {
   "cell_type": "markdown",
   "id": "3ddbbaaa-451b-4cea-9e28-fe2346ac27c2",
   "metadata": {},
   "source": [
    "# point–point comparison (*k* 1–10)\n",
    "\n",
    "- Jaccard distance: $\\frac{ | A \\cap B | }{ | A \\cup B | } = \\frac{ | A \\cap B | }{ | A | + | B | - | A \\cap B | }$\n"
   ]
  },
  {
   "cell_type": "code",
   "execution_count": 2,
   "id": "de5d736f-6351-4917-9bcb-6eb4fbc169aa",
   "metadata": {},
   "outputs": [],
   "source": [
    "from typing import Union\n",
    "\n",
    "from sklearn.neighbors import NearestNeighbors\n",
    "from numba import njit\n",
    "import numpy.typing as npt\n",
    "\n",
    "@njit\n",
    "def _jaccard(A: npt.ArrayLike, B: npt.ArrayLike) -> npt.NDArray:\n",
    "    dist = np.zeros(len(A))\n",
    "    for i, rows in enumerate(zip(A, B)):\n",
    "        a = set(rows[0])\n",
    "        b = set(rows[1])\n",
    "        intersect = a.intersection(b)\n",
    "        dist[i] = len(intersect) / (len(a) + len(b) - len(intersect))\n",
    "    return dist\n",
    "\n",
    "def jaccard_pointwise(X0: npt.ArrayLike, X1:  npt.ArrayLike, n_neighbors: int) -> npt.NDArray:\n",
    "    indices = []\n",
    "    for X in (X0, X1):\n",
    "        # first neighbor is always self, so increment provided k by one\n",
    "        nbrs = NearestNeighbors(n_neighbors=n_neighbors + 1).fit(X)\n",
    "        ind = nbrs.kneighbors(X, return_distance=False)\n",
    "        indices.append(ind[:, 1:])\n",
    "        \n",
    "    return _jaccard(*indices)"
   ]
  },
  {
   "cell_type": "code",
   "execution_count": 3,
   "id": "d00022b7-912f-4dd6-a6c3-d22ede93d42e",
   "metadata": {},
   "outputs": [],
   "source": [
    "# comparret the distribution of \n",
    "distances = {\n",
    "    k: jaccard_pointwise(annotated[[\"x\", \"y\"]], raw[[\"x\", \"y\"]], n_neighbors=k)\n",
    "    for k in (3, 5, 10, 20, 30, 40, 60, 99)\n",
    "}"
   ]
  },
  {
   "cell_type": "code",
   "execution_count": 4,
   "id": "4b2d9a8c-97c7-47c5-a896-968c7556a018",
   "metadata": {},
   "outputs": [
    {
     "data": {
      "text/plain": [
       "<AxesSubplot: ylabel='Proportion'>"
      ]
     },
     "execution_count": 4,
     "metadata": {},
     "output_type": "execute_result"
    },
    {
     "data": {
      "image/png": "[encoded data removed]",
      "text/plain": [
       "<Figure size 640x480 with 1 Axes>"
      ]
     },
     "metadata": {},
     "output_type": "display_data"
    }
   ],
   "source": [
    "import seaborn as sns\n",
    "\n",
    "sns.ecdfplot(distances)"
   ]
  },
  {
   "cell_type": "markdown",
   "id": "13c82e75-2ef3-4e08-9a8c-96f954557481",
   "metadata": {},
   "source": [
    "# label–point comparison\n",
    "\n",
    "- \"group-wise\" Jaccard distance: $\\frac{\\bigcup_{i \\in I} A_i \\cap B_i}{\\bigcup_{i \\in I} A_i \\cup B_i}$, where $I$ is a set of points with a given label\n",
    "\n",
    "- Alternatively, view the distribution/summary of Jaccard distances for all points in a group\n",
    "\n",
    "TODO"
   ]
  },
  {
   "cell_type": "markdown",
   "id": "0d1b8a2f-d057-4ab1-99b4-41cd82f31b96",
   "metadata": {},
   "source": [
    "# label–label comparision\n",
    "\n",
    "TODO"
   ]
  },
  {
   "cell_type": "code",
   "execution_count": null,
   "id": "39f151d7-33d7-4293-a829-de19d683c2ee",
   "metadata": {},
   "outputs": [],
   "source": []
  }
 ],
 "metadata": {
  "kernelspec": {
   "display_name": "Python 3 (ipykernel)",
   "language": "python",
   "name": "python3"
  },
  "language_info": {
   "codemirror_mode": {
    "name": "ipython",
    "version": 3
   },
   "file_extension": ".py",
   "mimetype": "text/x-python",
   "name": "python",
   "nbconvert_exporter": "python",
   "pygments_lexer": "ipython3",
   "version": "3.9.13"
  }
 },
 "nbformat": 4,
 "nbformat_minor": 5
}
