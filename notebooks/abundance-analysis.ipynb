{
 "cells": [
  {
   "cell_type": "markdown",
   "id": "a6801dc8-ef42-45c9-b443-6498c63d7396",
   "metadata": {},
   "source": [
    "# Ozette Abundance Metric Examples\n",
    "\n",
    "In this Notebook we're going to use the _Abundance_ metric on three Ozette-embedded studies to find differentially-abundant phenotypes."
   ]
  },
  {
   "cell_type": "code",
   "execution_count": null,
   "id": "52eb3296-0cbc-4ead-b386-cc23ce16345d",
   "metadata": {
    "tags": []
   },
   "outputs": [],
   "source": [
    "%load_ext autoreload\n",
    "%autoreload 2"
   ]
  },
  {
   "cell_type": "code",
   "execution_count": null,
   "id": "f923c828-da89-44fa-a128-963b7be0efab",
   "metadata": {
    "tags": []
   },
   "outputs": [],
   "source": [
    "import pathlib\n",
    "import sys\n",
    "import pandas as pd\n",
    "from cev.widgets import Embedding, EmbeddingComparisonWidget, compare\n",
    "\n",
    "\n",
    "def get_embedding(folder: str, sample: str):\n",
    "    return Embedding.from_ozette(\n",
    "        df=pd.read_parquet(\n",
    "            pathlib.Path.cwd() / \"..\" / \"data\" / f\"{folder}\" / f\"{sample}.parquet\"\n",
    "        )\n",
    "    )"
   ]
  },
  {
   "cell_type": "markdown",
   "id": "00e6670f-5831-46b9-b713-5b0035594d43",
   "metadata": {},
   "source": [
    "# Melanoma Study\n",
    "\n",
    "### Distinct predictive biomarker candidates for response to anti-CTLA-4 and anti-PD-1 immunotherapy in melanoma patients\n",
    "\n",
    "Subrahmanyam et al., 2018. https://pubmed.ncbi.nlm.nih.gov/29510697/\n",
    "\n",
    "In this example we're going to compare phenotypes between a pair of unstimulated Pembrolizumab responder and non-responder samples."
   ]
  },
  {
   "cell_type": "code",
   "execution_count": null,
   "id": "9eb8172a-3e2c-410d-9c6e-14a905e87498",
   "metadata": {
    "tags": []
   },
   "outputs": [],
   "source": [
    "non_responder_embedding = get_embedding(\"subrahmanyam-2018\", \"OZEXPSMPL_782\")\n",
    "responder_embedding = get_embedding(\"subrahmanyam-2018\", \"OZEXPSMPL_804\")\n",
    "\n",
    "melanoma_comparison = EmbeddingComparisonWidget(\n",
    "    non_responder_embedding,\n",
    "    responder_embedding,\n",
    "    titles=[\"Non-Responder\", \"Responder\"],\n",
    "    metric=\"abundance\",\n",
    "    selection=\"phenotype\",\n",
    "    auto_zoom=True,\n",
    "    row_height=360,\n",
    ")\n",
    "melanoma_comparison"
   ]
  },
  {
   "cell_type": "markdown",
   "id": "c05e7375-07eb-4096-8bd5-9907c8d1248a",
   "metadata": {},
   "source": [
    "**Phenotype 1:** should be more abundant in `responder` (right) compared to `non-responder` (left)"
   ]
  },
  {
   "cell_type": "code",
   "execution_count": null,
   "id": "fc8158f5-0cbc-4731-8d6f-e49968f76556",
   "metadata": {
    "tags": []
   },
   "outputs": [],
   "source": [
    "melanoma_comparison.select(\n",
    "    \"CD8-GranzymeB-CD27+CD3+CD28+CD19-CD57-CD127+CD33-CD45RA-CD4+CD14-HLADR-CD20-CCR7+CD56-IL2-CD16-TNFa-MIP1b-CD154+GMCSF-PDL1-CD107a-IL17-Perforin-CD69+CTLA4-PDL2-PD1-TCRgd-IFNg-CD38-CD25-IL10-IL4-\"\n",
    ")"
   ]
  },
  {
   "cell_type": "markdown",
   "id": "356a7f7c-c2f8-4b74-8299-245f4b7d7b57",
   "metadata": {},
   "source": [
    "**Phenotype 2:** should be more abundant in `responder` (right) compared to `non-responder` (left)"
   ]
  },
  {
   "cell_type": "code",
   "execution_count": null,
   "id": "ae44dea4-3b21-45ec-b184-1b003ce626f0",
   "metadata": {
    "tags": []
   },
   "outputs": [],
   "source": [
    "melanoma_comparison.select(\n",
    "    \"CD8-GranzymeB+CD27-CD3-CD28-CD19-CD57+CD127-CD33-CD45RA+CD4-CD14-HLADR-CD20-CCR7-CD56+IL2-CD16+TNFa-MIP1b+CD154-GMCSF-PDL1-CD107a-IL17-Perforin+CD69+CTLA4-PDL2+PD1-TCRgd-IFNg-CD38+CD25-IL10-IL4-\"\n",
    ")"
   ]
  },
  {
   "cell_type": "markdown",
   "id": "9f63edea-a9c6-4288-8fe1-6d0bfeed937a",
   "metadata": {},
   "source": [
    "**Phenotype 3:** should be more abundant in `responder` (right) compared to `non-responder` (left)"
   ]
  },
  {
   "cell_type": "code",
   "execution_count": null,
   "id": "c2f944d8-fa87-47ec-97af-af7a775b696c",
   "metadata": {
    "tags": []
   },
   "outputs": [],
   "source": [
    "melanoma_comparison.select(\n",
    "    \"CD8-GranzymeB+CD27-CD3-CD28-CD19-CD57+CD127-CD33-CD45RA+CD4-CD14-HLADR-CD20-CCR7-CD56+IL2-CD16+TNFa-MIP1b+CD154-GMCSF-PDL1-CD107a-IL17-Perforin+CD69-CTLA4-PDL2+PD1-TCRgd-IFNg-CD38+CD25-IL10-IL4-\"\n",
    ")"
   ]
  },
  {
   "cell_type": "markdown",
   "id": "4e3b6b2b-e1ce-48d8-8449-5c045e1b274b",
   "metadata": {
    "tags": []
   },
   "source": [
    "**Phenotype 4:** should be more abundant in `responder` (right) compared to `non-responder` (left)"
   ]
  },
  {
   "cell_type": "code",
   "execution_count": null,
   "id": "c8c0e834-205d-47ac-965f-a3953bfb611c",
   "metadata": {
    "tags": []
   },
   "outputs": [],
   "source": [
    "melanoma_comparison.select(\n",
    "    \"CD8-GranzymeB+CD27-CD3-CD28-CD19-CD57+CD127-CD33-CD45RA+CD4-CD14-HLADR-CD20-CCR7-CD56+IL2-CD16+TNFa-MIP1b-CD154-GMCSF-PDL1-CD107a-IL17-Perforin+CD69-CTLA4-PDL2-PD1-TCRgd-IFNg-CD38+CD25-IL10-IL4-\"\n",
    ")"
   ]
  },
  {
   "cell_type": "markdown",
   "id": "a494fdc5-6c47-4795-b652-84c8a4d4736a",
   "metadata": {
    "tags": []
   },
   "source": [
    "# Cancer Study\n",
    "\n",
    "### Extricating human tumour immune alterations from tissue inflammation\n",
    "\n",
    "Mair et al., 2022. https://www.nature.com/articles/s41586-022-04718-w\n",
    "\n",
    "In this example we're going to compare phenotypes between a pair of tumor and tissue samples."
   ]
  },
  {
   "cell_type": "code",
   "execution_count": null,
   "id": "08c90f9d-ef19-4f33-a84d-9ff36d3b1bc4",
   "metadata": {
    "tags": []
   },
   "outputs": [],
   "source": [
    "tissue_embedding = get_embedding(\"mair-2022\", \"OZEXPSMPL_26155\")\n",
    "tumor_embedding = get_embedding(\"mair-2022\", \"OZEXPSMPL_26146\")\n",
    "\n",
    "cancer_comparison = EmbeddingComparisonWidget(\n",
    "    tissue_embedding,\n",
    "    tumor_embedding,\n",
    "    titles=[\"Tissue (Mucosa)\", \"Tumor\"],\n",
    "    metric=\"abundance\",\n",
    "    selection=\"phenotype\",\n",
    "    auto_zoom=True,\n",
    "    row_height=360,\n",
    ")\n",
    "cancer_comparison"
   ]
  },
  {
   "cell_type": "markdown",
   "id": "8aa9b0c4-9c58-47bb-a634-46da604f2d40",
   "metadata": {},
   "source": [
    "**CD8 T-Cell Phenotype** should be more abundant in `tissue` (left) compared to `tumor` (right)"
   ]
  },
  {
   "cell_type": "code",
   "execution_count": null,
   "id": "928d70df-0a2e-476d-b35d-984105a399b8",
   "metadata": {},
   "outputs": [],
   "source": [
    "cancer_comparison.select(\n",
    "    \"CD4-CD8+CD3+CD45RA+CD27+CD19-CD103-CD28-CD69+PD1+HLADR-GranzymeB-CD25-ICOS-TCRgd-CD38-CD127-Tim3-\"\n",
    ")"
   ]
  },
  {
   "cell_type": "markdown",
   "id": "163211c0-b82a-4b9b-84b7-fc6a305290d2",
   "metadata": {},
   "source": [
    "**CD4 T-Cell Phenotype** should be more abundant in `tumor` (right) compared to `tissue` (left)"
   ]
  },
  {
   "cell_type": "code",
   "execution_count": null,
   "id": "ec3f14c6-8daa-41c9-87e5-6d5cca6f3d53",
   "metadata": {
    "tags": []
   },
   "outputs": [],
   "source": [
    "cancer_comparison.select(\n",
    "    \"CD4+CD8-CD3+CD45RA-CD27+CD19-CD103-CD28+CD69+PD1+HLADR-GranzymeB-CD25+ICOS+TCRgd-CD38-CD127-Tim3+\"\n",
    ")"
   ]
  },
  {
   "cell_type": "markdown",
   "id": "40ae8012-f44d-4720-b714-b4766c6da98c",
   "metadata": {
    "tags": []
   },
   "source": [
    "# ICS Study\n",
    "\n",
    "### IFN-γ-independent immune markers of Mycobacterium tuberculosis exposure\n",
    "\n",
    "Lu et al., 2019. https://www.nature.com/articles/s41591-019-0441-3\n",
    "\n",
    "In this example we're going to compare phenotypes between a pair of disease (LTBI) and resister (RSTR) samples."
   ]
  },
  {
   "cell_type": "code",
   "execution_count": null,
   "id": "6c762a63-242d-44cd-9e4a-329009a4bc3b",
   "metadata": {
    "tags": []
   },
   "outputs": [],
   "source": [
    "diseased_embedding = get_embedding(\"lu-2019\", \"OZEXPSMPL_2105\")\n",
    "resister_embedding = get_embedding(\"lu-2019\", \"OZEXPSMPL_2136\")\n",
    "\n",
    "comparison = EmbeddingComparisonWidget(\n",
    "    diseased_embedding,\n",
    "    resister_embedding,\n",
    "    titles=[\"Diseased (LTBI)\", \"Resister (RSTR)\"],\n",
    "    metric=\"abundance\",\n",
    "    selection=\"phenotype\",\n",
    "    auto_zoom=True,\n",
    "    row_height=360,\n",
    ")\n",
    "comparison"
   ]
  },
  {
   "cell_type": "markdown",
   "id": "9241a79e-e1b6-454d-be1e-d476019ba3b8",
   "metadata": {},
   "source": [
    "**Phenotype 5 from [Fig 3c](https://www.nature.com/articles/s41591-019-0441-3/figures/3)** should be more abundant in `diseased` (Left) compared to `resister` (right)"
   ]
  },
  {
   "cell_type": "code",
   "execution_count": null,
   "id": "c72ed082-22e3-41ce-a1bd-8f16c77eed7d",
   "metadata": {
    "tags": []
   },
   "outputs": [],
   "source": [
    "comparison.select(\"CD4+CD3+CD8-TNF+CD107a-IL4-IFNg+IL2+CD154+IL17a-\")"
   ]
  },
  {
   "cell_type": "code",
   "execution_count": null,
   "id": "d52f8667-fe9d-4dc2-b287-b132ce8b7877",
   "metadata": {},
   "outputs": [],
   "source": []
  }
 ],
 "metadata": {
  "kernelspec": {
   "display_name": "Python 3 (ipykernel)",
   "language": "python",
   "name": "python3"
  },
  "language_info": {
   "codemirror_mode": {
    "name": "ipython",
    "version": 3
   },
   "file_extension": ".py",
   "mimetype": "text/x-python",
   "name": "python",
   "nbconvert_exporter": "python",
   "pygments_lexer": "ipython3",
   "version": "3.10.11"
  }
 },
 "nbformat": 4,
 "nbformat_minor": 5
}
