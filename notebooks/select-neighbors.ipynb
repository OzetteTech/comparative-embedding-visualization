{
 "cells": [
  {
   "cell_type": "markdown",
   "id": "db0d3bcf-b0cb-4fae-b7e4-4a501c9858de",
   "metadata": {},
   "source": [
    "This notebook requires a pair of untransformed and annotation-based transformed embeddings. The snakemake worflow in this repository contains rules for generating these embedding pairs with UMAP for FAUST annotations (`{name}_embedding_output.parquet` ). An example pair can be generated via,\n",
    "\n",
    "```bash\n",
    "snakemake --cores all \\\n",
    "    data/mair-2022-ismb/TISSUE_138_samples_FM96_OM138_035_CD45_live_fcs_110595_umap.parquet \\\n",
    "    data/mair-2022-ismb/TISSUE_138_samples_FM96_OM138_035_CD45_live_fcs_110595_umap_annotated.parquet\n",
    "```\n",
    "\n",
    "which downloads [sample annotations](https://figshare.com/articles/dataset/ISMB_BioVis_2022_Data/20301639) from figshare and executes the embedding rules automatically.\n"
   ]
  },
  {
   "cell_type": "code",
   "execution_count": null,
   "id": "7d78d31b-6cc2-436f-abc1-2dec9beec2de",
   "metadata": {},
   "outputs": [],
   "source": [
    "import pathlib\n",
    "\n",
    "import pandas as pd\n",
    "import numpy as np\n",
    "import jscatter\n",
    "\n",
    "data_dir = pathlib.Path.cwd() / \"..\" / \"data\"\n",
    "raw = pd.read_parquet(\"../data/seed42_umap.pq\")\n",
    "annotated = pd.read_parquet(\"../data/seed123_umap.pq\")"
   ]
  },
  {
   "cell_type": "code",
   "execution_count": null,
   "id": "f9f10bd9-002b-46b8-836d-65f52dae1f91",
   "metadata": {},
   "outputs": [],
   "source": [
    "import colors \n",
    "\n",
    "color_map = [colors.gray_dark]+colors.glasbey_light+colors.glasbey_light+colors.glasbey_light\n",
    "\n",
    "view_config = dict(x='x', y='y', color_by='cellType', color_map=color_map, background_color='black', axes=False, opacity_unselected=0.05)\n",
    "compose_config = dict(sync_selection=True, sync_hover=True, row_height=640)\n"
   ]
  },
  {
   "cell_type": "code",
   "execution_count": null,
   "id": "44a1961a-fb39-4ab4-ae4d-b9636876ac2f",
   "metadata": {},
   "outputs": [],
   "source": [
    "import ipywidgets\n",
    "from sklearn.neighbors import NearestNeighbors\n",
    "\n",
    "import numpy.typing as npt\n",
    "\n",
    "def kneighbors(X: npt.ArrayLike, k: int) -> npt.NDArray:\n",
    "    # first neighbor is always self, so increment provided k by one\n",
    "    nbrs = NearestNeighbors(n_neighbors=k + 1).fit(X)\n",
    "    ind = nbrs.kneighbors(X, return_distance=False)\n",
    "    return ind[:, 1:]\n",
    "\n",
    "def link_neighbors(\n",
    "    s1: jscatter.Scatter,\n",
    "    s2: jscatter.Scatter,\n",
    "    neighbors: npt.NDArray,\n",
    "):\n",
    "    slider = ipywidgets.IntSlider(\n",
    "        value=0,\n",
    "        min=0,\n",
    "        max=neighbors.shape[1],\n",
    "        description='k:',\n",
    "    )\n",
    "    \n",
    "    def selection_handler(change):\n",
    "        if change['new'] is None or len(change['new']) != 1:\n",
    "            s2.widget.selection = []\n",
    "        else:\n",
    "            idx = int(change['new'])\n",
    "            s1.widget.selection = neighbors[idx][:slider.value]\n",
    "            s2.widget.selection = neighbors[idx][:slider.value]\n",
    "            \n",
    "    s1.widget.observe(selection_handler, names=\"selection\")\n",
    "                    \n",
    "    scatters = ipywidgets.GridBox(\n",
    "        children=[s1.show(), s2.show()],\n",
    "        layout=ipywidgets.Layout(\n",
    "            grid_template_columns=' '.join(['1fr' for x in range(2)]),\n",
    "            grid_gap='2px'\n",
    "        )\n",
    "    )\n",
    "    \n",
    "    return ipywidgets.VBox([slider, scatters])\n",
    "\n",
    "plot_ann_embed_umap = jscatter.Scatter(data=annotated, **view_config)\n",
    "plot_raw_embed_umap = jscatter.Scatter(data=raw, **view_config)\n",
    "\n",
    "link_neighbors(plot_ann_embed_umap, plot_raw_embed_umap, kneighbors(annotated[[\"x\", \"y\"]], k=50))"
   ]
  },
  {
   "cell_type": "code",
   "execution_count": null,
   "id": "5377a15f-2c20-4013-a085-b9e528da28d4",
   "metadata": {},
   "outputs": [],
   "source": []
  }
 ],
 "metadata": {
  "kernelspec": {
   "display_name": "Python 3 (ipykernel)",
   "language": "python",
   "name": "python3"
  },
  "language_info": {
   "codemirror_mode": {
    "name": "ipython",
    "version": 3
   },
   "file_extension": ".py",
   "mimetype": "text/x-python",
   "name": "python",
   "nbconvert_exporter": "python",
   "pygments_lexer": "ipython3",
   "version": "3.9.13"
  }
 },
 "nbformat": 4,
 "nbformat_minor": 5
}
